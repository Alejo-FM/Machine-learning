{
 "cells": [
  {
   "cell_type": "markdown",
   "metadata": {},
   "source": [
    "# Procesamiento de lenguaje natural usando redes neuronales recurrentes."
   ]
  },
  {
   "cell_type": "markdown",
   "metadata": {},
   "source": [
    "## Sección 2 - Proyecto (5) - Equipo #4 (T5)\n",
    "- Alejandro Molina\n",
    "- Sandro Portanova\n",
    "- Carlos Fornari"
   ]
  },
  {
   "cell_type": "markdown",
   "metadata": {},
   "source": [
    "La red implementada en este proyecto es para predecir \"la siguiente palabra\" en un texto en Español."
   ]
  },
  {
   "cell_type": "markdown",
   "metadata": {},
   "source": [
    "## Librerias"
   ]
  },
  {
   "cell_type": "code",
   "execution_count": 5,
   "metadata": {},
   "outputs": [
    {
     "name": "stdout",
     "output_type": "stream",
     "text": [
      "WARNING:tensorflow:From c:\\Users\\Alejandro Molina\\AppData\\Local\\Programs\\Python\\Python311\\Lib\\site-packages\\keras\\src\\losses.py:2976: The name tf.losses.sparse_softmax_cross_entropy is deprecated. Please use tf.compat.v1.losses.sparse_softmax_cross_entropy instead.\n",
      "\n"
     ]
    }
   ],
   "source": [
    "import numpy as np\n",
    "import matplotlib.pyplot as plt\n",
    "\n",
    "# Tokenizer se utiliza para convertir el texto en secuencias de enteros\n",
    "from keras.preprocessing.text import Tokenizer\n",
    "\n",
    "# Pad_sequences se utiliza para rellenar las secuencias de enteros\n",
    "from keras.preprocessing.sequence import pad_sequences\n",
    "\n",
    "# to_categorical se utiliza para convertir las etiquetas en vectores binarios (0 y 1)\n",
    "from keras.utils import to_categorical\n",
    "\n",
    "# Librerías utilizadas para el modelo\n",
    "from keras.models import Sequential\n",
    "from keras.layers import Embedding, LSTM, Dense"
   ]
  },
  {
   "cell_type": "markdown",
   "metadata": {},
   "source": [
    "## Seleccionamos el dataset"
   ]
  },
  {
   "cell_type": "markdown",
   "metadata": {},
   "source": [
    "### Cargamos el dataset\n",
    "El dataset que vamos a utilizar es un fragmento del libro El Alquimista de Paulo Coelho."
   ]
  },
  {
   "cell_type": "code",
   "execution_count": 6,
   "metadata": {},
   "outputs": [],
   "source": [
    "# Indicamos el nombre del archivo a usar (Este debe estar en la misma carpeta que el notebook)\n",
    "# sino se debe indicar la ruta completa\n",
    "path = './text.txt'\n",
    "\n",
    "# Abrimos el archivo y lo leemos\n",
    "with open(path, 'r', encoding='utf-8') as f:\n",
    "    text = f.read().lower()"
   ]
  },
  {
   "cell_type": "markdown",
   "metadata": {},
   "source": [
    "## Pre-procesamiento de los datos\n"
   ]
  },
  {
   "cell_type": "markdown",
   "metadata": {},
   "source": [
    "### Para el pre-procesamiento de los datos utilizaremos la tokenización (Tensorflow)."
   ]
  },
  {
   "cell_type": "code",
   "execution_count": 7,
   "metadata": {},
   "outputs": [
    {
     "name": "stdout",
     "output_type": "stream",
     "text": [
      "Diccionario:  {'de': 1, 'el': 2, 'que': 3, 'y': 4, 'la': 5, 'en': 6, 'a': 7, 'un': 8, 'las': 9, 'se': 10, 'no': 11, 'los': 12, 'había': 13, 'una': 14, 'su': 15, 'con': 16, 'muchacho': 17, 'para': 18, 'lo': 19, 'del': 20, 'le': 21, 'por': 22, 'pero': 23, 'era': 24, 'viejo': 25, 'más': 26, 'ovejas': 27, 'al': 28, 'él': 29, 'es': 30, 'estaba': 31, 'porque': 32, 'sus': 33, 'dijo': 34, 'cuando': 35, 'todo': 36, 'siempre': 37, 'como': 38, 'si': 39, 'ya': 40, 'me': 41, 'mi': 42, 'sin': 43, 'dos': 44, 'vida': 45, 'tenía': 46, 'mundo': 47, 'yo': 48, 'hasta': 49, 'pensó': 50, 'dinero': 51, 'también': 52, 'personas': 53, 'tiempo': 54, 'ser': 55, 'mercader': 56, 'cosas': 57, 'rey': 58, 'día': 59, 'nunca': 60, 'sabía': 61, 'tesoro': 62, 'libro': 63, 'sólo': 64, 'piedras': 65, 'nada': 66, 'aquella': 67, 'todos': 68, 'mismo': 69, 'pastor': 70, 'chico': 71, 'mientras': 72, 'qué': 73, 'eso': 74, 'podía': 75, 'aquel': 76, 'cristales': 77, 'durante': 78, 'años': 79, 'ellas': 80, 'allí': 81, 'o': 82, 'después': 83, 'tienda': 84, 'poco': 85, 'cuenta': 86, 'dicho': 87, 'vez': 88, 'ahora': 89, 'tu': 90, 'antes': 91, 'parte': 92, 'días': 93, 'vieja': 94, 'ciudad': 95, 'pirámides': 96, 'té': 97, 'leyenda': 98, 'sueño': 99, 'lenguaje': 100, 'son': 101, 'comenzó': 102, 'hombre': 103, 'otro': 104, 'eran': 105, 'personal': 106, 'hacer': 107, 'donde': 108, 'tú': 109, 'preguntó': 110, 'dio': 111, 'comprar': 112, 'entonces': 113, 'te': 114, 'uno': 115, 'mucho': 116, 'leer': 117, 'comerciante': 118, 'hombres': 119, 'muchas': 120, 'señales': 121, 'lugar': 122, 'así': 123, 'momento': 124, 'veces': 125, 'plaza': 126, 'árabe': 127, 'mis': 128, 'joven': 129, 'dentro': 130, 'viajar': 131, 'casi': 132, 'sintió': 133, 'cómo': 134, 'desierto': 135, 'ellos': 136, 'aún': 137, 'sobre': 138, 'horas': 139, 'esta': 140, 'ver': 141, 'desde': 142, 'jamás': 143, 'piedra': 144, 'habían': 145, 'algo': 146, 'ese': 147, 'iba': 148, 'silencio': 149, 'cada': 150, 'embargo': 151, 'padre': 152, 'sol': 153, 'nuevo': 154, 'esto': 155, 'cosa': 156, 'está': 157, 'mejor': 158, 'manera': 159, 'toda': 160, 'algunas': 161, 'conocía': 162, 'tan': 163, 'quería': 164, 'sí': 165, 'quien': 166, 'agua': 167, 'todas': 168, 'vender': 169, 'comida': 170, 'sueños': 171, 'gente': 172, 'saber': 173, 'algún': 174, 'egipto': 175, 'muy': 176, 'volver': 177, 'sabio': 178, 'importante': 179, 'libros': 180, 'gran': 181, 'están': 182, 'decidió': 183, 'hubiera': 184, 'hija': 185, 'dueño': 186, 'quizá': 187, 'aunque': 188, 'mañana': 189, 'tengo': 190, 'ir': 191, 'ni': 192, 'cristal': 193, 'camino': 194, 'ella': 195, 'fue': 196, 'otras': 197, 'año': 198, 'verdad': 199, 'este': 200, 'mí': 201, 'noche': 202, 'historia': 203, 'entre': 204, 'niño': 205, 'ojos': 206, 'mujeres': 207, 'aquí': 208, 'haber': 209, 'manos': 210, 'tiene': 211, 'volvió': 212, 'seguir': 213, 'estoy': 214, 'salem': 215, 'palomitas': 216, 'alquimista': 217, 'oro': 218, 'dios': 219, 'muchos': 220, 'hace': 221, '¿y': 222, 'tierra': 223, 'narciso': 224, 'miró': 225, 'otra': 226, 'vino': 227, 'busca': 228, 'amigo': 229, 'zurrón': 230, 'pastores': 231, 'llegar': 232, 'misma': 233, 'pensaba': 234, 'continuó': 235, 'quiero': 236, 'debía': 237, 'soy': 238, 'primera': 239, 'vendedor': 240, 'hay': 241, 'urim': 242, 'tumim': 243, 'bar': 244, 'meca': 245, 'sentó': 246, 'lado': 247, 'alquimia': 248, 'alma': 249, 'tres': 250, 'hablar': 251, 'vidas': 252, 'forma': 253, 'decir': 254, 'haciendo': 255, 'sacó': 256, 'repuso': 257, 'pasado': 258, 'chaqueta': 259, 'vio': 260, 'acostumbrado': 261, 'andalucía': 262, 'estaban': 263, 'hecho': 264, 'puedo': 265, 'sé': 266, 'buena': 267, 'extraña': 268, 'usted': 269, 'quiere': 270, 'tánger': 271, 'mercado': 272, 'jesús': 273, 'cambio': 274, 'capaz': 275, 'seis': 276, 'mano': 277, 'corazón': 278, 'fin': 279, 'sentía': 280, 'cogió': 281, 'decía': 282, '¿por': 283, 'cerca': 284, 'podría': 285, 'rebaño': 286, 'hacía': 287, 'campos': 288, 'visto': 289, 'tener': 290, 'vivir': 291, 'pidió': 292, 'tal': 293, 'conozco': 294, 'español': 295, 'conocer': 296, 'gustaría': 297, 'bolsillo': 298, 'conversación': 299, 'voy': 300, 'quedó': 301, 'acordó': 302, 'ésta': 303, 'pesar': 304, 'importantes': 305, 'e': 306, 'nuestra': 307, 'único': 308, 'hacia': 309, 'alguien': 310, 'lago': 311, 'pasar': 312, 'suelo': 313, 'mayor': 314, 'animales': 315, 'moros': 316, 'apenas': 317, 'nuevamente': 318, 'decisión': 319, 'alto': 320, 'estar': 321, 'pensando': 322, 'tarde': 323, 'nuestras': 324, 'cambiar': 325, 'posible': 326, 'tarifa': 327, 'realizar': 328, 'sea': 329, 'miedo': 330, 'tienes': 331, 'áfrica': 332, 'nadie': 333, 'aquello': 334, 'viento': 335, 'señal': 336, 'ladera': 337, 'estantería': 338, 'jarras': 339, 'inglés': 340, 'casa': 341, 'trabajo': 342, 'simple': 343, 'pues': 344, 'presencia': 345, 'conseguir': 346, 'igual': 347, 'obra': 348, 'estado': 349, 'siguiente': 350, 'alrededor': 351, 'tanto': 352, 'única': 353, 'bajo': 354, 'además': 355, 'algunos': 356, 'llegó': 357, 'tendría': 358, 'inmensa': 359, 'nos': 360, 'tus': 361, 'puerta': 362, 'dado': 363, 'alguna': 364, 'obstante': 365, 'les': 366, 'hablaba': 367, 'sido': 368, 'necesito': 369, 'iguales': 370, 'chica': 371, 'tomar': 372, 'fuerte': 373, 'hora': 374, 'nuevas': 375, 'castillo': 376, 'llegado': 377, 'encontrado': 378, 'gitanos': 379, 'pequeño': 380, 'habla': 381, 'repente': 382, 'llevaba': 383, 'palabras': 384, 'décima': 385, 'varias': 386, 'exactamente': 387, 'buscar': 388, 'universo': 389, 'dejado': 390, 'junto': 391, 'suerte': 392, 'cabeza': 393, 'pastelero': 394, 'entero': 395, 'mujer': 396, 'sola': 397, 'idea': 398, 'época': 399, 'alquimistas': 400, 'hoy': 401, 'realidad': 402, 'dar': 403, 'hizo': 404, 'propia': 405, 'bastante': 406, 'fondo': 407, 'maestro': 408, 'cierta': 409, 'saben': 410, 'cuál': 411, 'tipo': 412, 'unos': 413, 'otros': 414, 'recordar': 415, 'contó': 416, 'aprendido': 417, 'enseñado': 418, 'imagen': 419, 'llegaron': 420, 'finalmente': 421, 'fuera': 422, 'frente': 423, 'iglesia': 424, 'colocó': 425, 'región': 426, 'buscando': 427, 'recordó': 428, 'tenido': 429, 'empezó': 430, 'aquellas': 431, 'voz': 432, 'nombre': 433, 'campo': 434, 'ciudades': 435, 'anterior': 436, 'aldea': 437, 'comercio': 438, 'españa': 439, 'tenemos': 440, 'fuese': 441, 'pueden': 442, 'insistió': 443, 'iban': 444, 'leyó': 445, 'conocido': 446, 'ninguna': 447, 'feliz': 448, 'gusta': 449, 'mirando': 450, 'pasaba': 451, 'querer': 452, 'tienen': 453, '¿qué': 454, 'ofreció': 455, 'barco': 456, 'movimiento': 457, 'pequeña': 458, 'va': 459, 'felicidad': 460, 'quieres': 461, 'lejos': 462, 'puerto': 463, 'meses': 464, 'podían': 465, 'tuvo': 466, 'contempló': 467, 'rostro': 468, 'traía': 469, 'encontrar': 470, 'aceite': 471, 'país': 472, 'menos': 473, 'recién': 474, 'persona': 475, 'piezas': 476, 'narguile': 477, 'permaneció': 478, 'simbólico': 479, 'larga': 480, 'cualquiera': 481, 'entender': 482, 'existencia': 483, 'personajes': 484, 'arte': 485, 'esmeralda': 486, 'huir': 487, 'nuestro': 488, 'propio': 489, 'destino': 490, 'existen': 491, 'filosofal': 492, 'nosotros': 493, 'podemos': 494, 'tras': 495, 'antiguo': 496, 'sintiendo': 497, 'bolsa': 498, 'caravana': 499, 'belleza': 500, 'consigo': 501, 'cabo': 502, 'despertó': 503, 'reflexionó': 504, 'hubiese': 505, 'alegría': 506, 'vivía': 507, 'cuatro': 508, 'lana': 509, 'respondió': 510, 'conversando': 511, 'contento': 512, 'conversar': 513, 'historias': 514, 'esperar': 515, 'esquilar': 516, 'olvidado': 517, 'solo': 518, 'sensación': 519, 'contra': 520, 'sería': 521, 'gracias': 522, 'sabe': 523, 'seminario': 524, 'cura': 525, 'colina': 526, 'replicó': 527, 'deseo': 528, 'habría': 529, 'diferente': 530, 'dan': 531, 'cielo': 532, 'bien': 533, 'pensar': 534, 'repetido': 535, 'mesa': 536, 'parecía': 537, 'tenían': 538, 'pagar': 539, 'importancia': 540, 'cualquier': 541, 'explicó': 542, 'aparecía': 543, 'escondido': 544, 'tesoros': 545, 'realmente': 546, 'rico': 547, 'sorprendido': 548, 'perdido': 549, 'lectura': 550, 'banco': 551, 'estos': 552, 'deben': 553, 'propias': 554, 'estuviera': 555, 'aparecer': 556, 'adelante': 557, 'buenas': 558, 'extraño': 559, 'pocas': 560, 'árabes': 561, 'puede': 562, 'melquisedec': 563, 'demasiado': 564, 'ante': 565, 'pecho': 566, 'fuerza': 567, 'voluntad': 568, 'existe': 569, 'conspira': 570, 'maíz': 571, 'punto': 572, 'garimpeiro': 573, 'preciosas': 574, 'partir': 575, 'cinco': 576, 'pronto': 577, 'caminar': 578, 'ventanilla': 579, 'subir': 580, 'levante': 581, 'siquiera': 582, 'continuaba': 583, 'vendiendo': 584, 'olor': 585, 'pectoral': 586, 'decisiones': 587, 'secreto': 588, 'montaña': 589, 'gotas': 590, 'cuchara': 591, 'espada': 592, 'hablado': 593, 'calle': 594, 'vacío': 595, 'bendición': 596, 'sonrisa': 597, 'jarros': 598, 'clientes': 599, 'comer': 600, 'yendo': 601, 'entraron': 602, 'cierto': 603, 'llamada': 604, 'marta': 605, 'señor': 606, 'escuchando': 607, 'descubrir': 608, 'elixir': 609, 'sentir': 610, 'posibilidad': 611, 'cuerpo': 612, 'cambios': 613, 'comienzo': 614, 'encontraban': 615, 'compra': 616, 'contacto': 617, 'río': 618, 'conocí': 619, 'decían': 620, 'permite': 621, 'utilizar': 622, 'aprendí': 623, 'debemos': 624, 'aquellos': 625, 'razón': 626, 'través': 627, 'modo': 628, 'descubrí': 629, 'alcanzar': 630, 'pocos': 631, 'páginas': 632, 'respecto': 633, 'señora': 634, 'virgen': 635, 'bellos': 636, 'mostró': 637, 'nombres': 638, 'monje': 639, 'fueron': 640, 'sabios': 641, 'necesidad': 642, 'avergonzado': 643, 'mirada': 644, 'consiguió': 645, 'hojeaba': 646, 'encontró': 647, 'contemplar': 648, 'acababa': 649, 'oréades': 650, 'lloro': 651, 'oportunidad': 652, '¿quién': 653, 'inclinaba': 654, 'instantes': 655, '¡qué': 656, 'techo': 657, 'lobos': 658, 'dormir': 659, 'arriba': 660, 'levantó': 661, 'trago': 662, 'alimento': 663, 'han': 664, 'conocen': 665, 'cual': 666, 'impresionado': 667, 'últimas': 668, 'novedades': 669, 'veía': 670, 'cabellos': 671, 'habló': 672, '¿cómo': 673, 'sabes': 674, 'eres': 675, 'pregunta': 676, 'siguió': 677, 'medida': 678, 'sentido': 679, 'ganas': 680, 'quedarse': 681, 'volviera': 682, 'pastos': 683, 'leído': 684, 'confiar': 685, 'pensamientos': 686, 'segunda': 687, 'unas': 688, 'querían': 689, 'hijo': 690, 'mismas': 691, 'piel': 692, 'tierras': 693, 'lleno': 694, 'encontré': 695, 'nuevos': 696, 'conmigo': 697, 'acordarse': 698, 'sagrado': 699, 'hiciese': 700, 'rezar': 701, 'guardar': 702, 'he': 703, 'arrepentido': 704, 'empezaba': 705, 'edad': 706, 'puedes': 707, 'esperó': 708, 'atentamente': 709, 'rió': 710, 'dije': 711, 'salió': 712, 'grueso': 713, 'mucha': 714, 'amigos': 715, 'necesario': 716, 'pasan': 717, 'estaría': 718, 'entierro': 719, 'concentrarse': 720, 'trabajando': 721, 'delante': 722, 'atrás': 723, 'leyendo': 724, 'sentirse': 725, 'mentira': 726, 'éstas': 727, 'ha': 728, 'ropa': 729, 'cruzar': 730, 'oraciones': 731, 'extrañas': 732, 'dónde': 733, 'partes': 734, 'quiso': 735, 'contemplando': 736, 'momentos': 737, 'estamos': 738, 'cobrado': 739, 'cumplir': 740, 'imposible': 741, 'deseas': 742, 'obligación': 743, 'carrito': 744, 'juntar': 745, 'mes': 746, 'vendedores': 747, 'solamente': 748, 'éste': 749, 'bueno': 750, 'enseñar': 751, 'rumbo': 752, 'largo': 753, 'soplar': 754, 'infieles': 755, 'percibir': 756, 'allá': 757, 'principio': 758, 'favorable': 759, 'principiante': 760, 'ti': 761, 'abuelo': 762, 'negra': 763, 'entró': 764, 'mercaderes': 765, 'palacio': 766, 'añadió': 767, 'dejó': 768, 'diez': 769, 'regreso': 770, 'mirar': 771, 'tuviera': 772, 'orgulloso': 773, 'mal': 774, 'hablaban': 775, 'beber': 776, 'venta': 777, 'estuvo': 778, 'andaba': 779, 'suficiente': 780, 'comprando': 781, 'a1': 782, 'sesenta': 783, 'empezar': 784, 'daba': 785, 'entendía': 786, 'céntimo': 787, 'prueba': 788, 'ladrón': 789, 'aventurero': 790, 'dormido': 791, 'quiera': 792, 'primer': 793, 'descifrar': 794, 'treinta': 795, 'hubo': 796, 'tiendas': 797, 'limpiar': 798, 'trabajar': 799, 'comisión': 800, 'conseguido': 801, 'cliente': 802, 'imaginé': 803, 'bolsas': 804, 'trabajado': 805, 'estas': 806, 'almacén': 807, 'corral': 808, 'fayum': 809, 'europeo': 810, 'hermana': 811, 'maría': 812, 'pies': 813, 'enseñanzas': 814, 'aproximó': 815, 'importa': 816, 'será': 817, 'once': 818, 'transformar': 819, 'magia': 820, 'pensamiento': 821, 'líquido': 822, 'resolví': 823, 'grandes': 824, 'estudio': 825, 'laboratorios': 826, 'enseñarme': 827, 'complicado': 828, 'símbolos': 829, 'falta': 830, 'contratado': 831, 'clases': 832, 'decidí': 833, 'tema': 834, 'actitud': 835, 'pudiera': 836, 'carne': 837, 'paga': 838, 'pregunté': 839, 'hablando': 840, 'tercer': 841, 'consiguieron': 842, 'llamó': 843, 'seres': 844, 'humanos': 845, 'dudas': 846, 'homenaje': 847, 'completar': 848, 'pena': 849, 'brazos': 850, 'bajar': 851, 'visitar': 852, 'sacerdotes': 853, 'fila': 854, 'tercero': 855, 'sucesivamente': 856, 'convento': 857, 'padres': 858, 'aire': 859, 'malabarismos': 860, 'poner': 861, 'instante': 862, 'sonrió': 863, 'extendió': 864, 'autor': 865, 'volumen': 866, 'oscar': 867, 'wilde': 868, 'hermoso': 869, 'cayó': 870, 'murió': 871, 'nació': 872, 'bosque': 873, 'dulce': 874, 'lágrimas': 875, '¡ah': 876, '¿pero': 877, 'bello': 878, 'bella': 879, 'llamaba': 880, 'santiago': 881, 'comenzaba': 882, 'sicomoro': 883, 'oveja': 884, 'semana': 885, 'pasada': 886, 'cayado': 887, 'cuanto': 888, 'misteriosa': 889, 'baja': 890, 'horario': 891, 'capaces': 892, 'solía': 893, 'tejidos': 894, 'gustaba': 895, 'acera': 896, 'fueran': 897, 'negros': 898, 'recordaban': 899, 'enseñan': 900, 'quedaron': 901, 'visitado': 902, 'viaje': 903, 'desear': 904, 'acabase': 905, 'ocupado': 906, 'faltaban': 907, 'pasaban': 908, 'dirección': 909, 'conociese': 910, 'mejores': 911, 'siendo': 912, 'nacimiento': 913, 'puesta': 914, 'hubieran': 915, 'lengua': 916, 'matarlas': 917, 'propios': 918, 'estuviese': 919, 'rabia': 920, 'bebió': 921, 'sobrado': 922, 'cena': 923, 'calor': 924, 'conducir': 925, 'dormía': 926, 'peso': 927, 'frío': 928, 'motivo': 929, 'familia': 930, 'trabajaba': 931, 'valor': 932, 'pasaron': 933, 'vienen': 934, 'castillos': 935, 'esos': 936, 'nuestros': 937, 'dicen': 938, 'seré': 939, 'monedas': 940, 'aprendas': 941, 'bellas': 942, 'bendijo': 943, 'recorrer': 944, 'intentado': 945, 'noches': 946, 'rojo': 947, 'apareció': 948, 'alegre': 949, 'cansara': 950, 'mar': 951, 'miraba': 952, 'buscaba': 953, 'tantas': 954, 'grande': 955, 'interesantes': 956, 'problema': 957, 'cambian': 958, 'diferentes': 959, 'calculó': 960, 'llegaría': 961, 'almuerzo': 962, 'voluminoso': 963, 'interesante': 964, 'cuarto': 965, 'sala': 966, 'ambas': 967, 'gitano': 968, 'demás': 969, 'temblar': 970, 'apartar': 971, 'poder': 972, 'empezaron': 973, 'rápidamente': 974, 'venido': 975, 'entrado': 976, 'consulta': 977, 'irse': 978, 'has': 979, 'interpretarlo': 980, 'entenderlo': 981, 'cobrar': 982, 'jugar': 983, 'extraños': 984, 'consiguen': 985, 'vuelve': 986, 'seguía': 987, 'encontrarás': 988, 'exacto': 989, 'coger': 990, 'escondidos': 991, 'gitana': 992, 'interpretación': 993, 'difícil': 994, 'creo': 995, 'irritado': 996, 'necesitaba': 997, 'verlas': 998, 'puesto': 999, 'transformarlos': 1000, 'hijas': 1001, 'cambió': 1002, 'comprado': 1003, 'conseguía': 1004, 'establo': 1005, 'suyo': 1006, 'somos': 1007, 'página': 1008, 'haría': 1009, 'inmenso': 1010, 'imaginado': 1011, 'escena': 1012, 'quedaba': 1013, 'explicarle': 1014, 'intentaba': 1015, 'contarle': 1016, 'sed': 1017, 'respetar': 1018, 'razones': 1019, 'humillado': 1020, 'aburrido': 1021, 'hablan': 1022, 'determinado': 1023, 'estrecho': 1024, 'nací': 1025, 'pista': 1026, 'hago': 1027, 'dice': 1028, 'ciertas': 1029, 'continuar': 1030, 'suficientes': 1031, 'ayudarte': 1032, 'pedido': 1033, 'enseñaré': 1034, 'claro': 1035, 'inclinó': 1036, 'arena': 1037, 'brillo': 1038, 'manto': 1039, 'madre': 1040, 'arma': 1041, 'experiencia': 1042, 'sexual': 1043, 'soñar': 1044, 'pasando': 1045, 'diciendo': 1046, 'esas': 1047, 'fuerzas': 1048, 'parecen': 1049, 'preparando': 1050, 'seas': 1051, 'hagas': 1052, 'silenciosos': 1053, 'primero': 1054, 'señaló': 1055, 'rincón': 1056, 'deseó': 1057, 'condiciones': 1058, 'debería': 1059, 'alta': 1060, 'casar': 1061, 'interrumpió': 1062, 'interrumpido': 1063, 'estás': 1064, 'desistir': 1065, 'fácil': 1066, 'partido': 1067, '999': 1068, 'transformó': 1069, 'arrojó': 1070, 'tanta': 1071, 'tendrás': 1072, 'sirve': 1073, 'conseguirlo': 1074, 'precio': 1075, 'esquinas': 1076, 'compró': 1077, 'dejar': 1078, 'sufrimiento': 1079, 'compraba': 1080, '¿quieres': 1081, 'acordado': 1082, 'cuidar': 1083, 'murallas': 1084, 'tantos': 1085, 'ido': 1086, 'entendían': 1087, 'detalles': 1088, 'cojeaba': 1089, 'decidirse': 1090, 'seguridad': 1091, 'pareja': 1092, 'frase': 1093, 'velo': 1094, 'sudor': 1095, 'inmediatamente': 1096, 'soñado': 1097, 'vivas': 1098, 'descubrió': 1099, 'escribió': 1100, 'debe': 1101, 'abrió': 1102, 'cubierto': 1103, 'sacando': 1104, 'blanca': 1105, 'centro': 1106, 'llaman': 1107, 'guardó': 1108, 'olvides': 1109, 'entraban': 1110, 'favor': 1111, 'cucharilla': 1112, 'caer': 1113, 'fijos': 1114, '¿viste': 1115, 'maravillas': 1116, 'tranquilo': 1117, 'atención': 1118, 'delicadeza': 1119, 'darte': 1120, 'dioses': 1121, 'deseos': 1122, 'seguida': 1123, 'dijiste': 1124, 'sentado': 1125, 'especie': 1126, 'callejuelas': 1127, 'estrechas': 1128, 'pipa': 1129, 'boca': 1130, 'cogidos': 1131, 'subían': 1132, 'torres': 1133, 'cantar': 1134, 'blanco': 1135, 'prisas': 1136, 'detalle': 1137, 'servido': 1138, 'amargo': 1139, 'indicaba': 1140, 'serpiente': 1141, 'kilómetros': 1142, 'aliviado': 1143, 'vestido': 1144, 'pide': 1145, 'hablarle': 1146, 'guía': 1147, 'atravesar': 1148, 'sahara': 1149, 'parar': 1150, 'extranjera': 1151, 'resto': 1152, 'ladrones': 1153, 'situación': 1154, 'camellos': 1155, 'calles': 1156, 'puestos': 1157, 'mezcladas': 1158, 'alfombras': 1159, 'medio': 1160, 'hermosa': 1161, 'incrustadas': 1162, 'distraído': 1163, 'continuaron': 1164, 'detrás': 1165, 'casas': 1166, 'nacido': 1167, 'continente': 1168, 'escondía': 1169, 'idioma': 1170, 'grito': 1171, 'llorar': 1172, 'lloró': 1173, 'injusto': 1174, 'triste': 1175, 'duro': 1176, 'mío': 1177, 'pasaje': 1178, 'listo': 1179, 'desesperación': 1180, 'cuidado': 1181, 'servían': 1182, 'metió': 1183, 'agujero': 1184, 'recoger': 1185, 'aprende': 1186, 'recogió': 1187, 'entendido': 1188, 'confianza': 1189, 'ayudó': 1190, 'montar': 1191, 'recordaba': 1192, 'dulces': 1193, 'notó': 1194, 'distante': 1195, 'acabaron': 1196, 'perfectamente': 1197, 'aprendo': 1198, 'aventura': 1199, 'extranjero': 1200, 'escaparate': 1201, 'aun': 1202, 'cartel': 1203, 'mostrador': 1204, 'plato': 1205, 'acabó': 1206, 'vamos': 1207, 'ley': 1208, 'corán': 1209, 'dirigió': 1210, 'tendrías': 1211, 'miles': 1212, 'haberse': 1213, 'decepción': 1214, 'morir': 1215, 'asustado': 1216, 'empleo': 1217, 'deseaba': 1218, 'vuelto': 1219, 'buenos': 1220, 'llama': 1221, 'entraba': 1222, 'diariamente': 1223, 'huerto': 1224, 'profeta': 1225, 'pobres': 1226, 'quinta': 1227, 'sagrada': 1228, 'empecé': 1229, 'vivo': 1230, 'juntos': 1231, 'pasó': 1232, 'gastado': 1233, 'recipientes': 1234, 'fumar': 1235, 'brasas': 1236, 'tamaño': 1237, 'fumando': 1238, 'maktub': 1239, 'escrito': 1240, 'poderes': 1241, 'bajó': 1242, 'ruido': 1243, 'progresar': 1244, 'conquistar': 1245, 'juntó': 1246, 'vive': 1247, 'quién': 1248, 'podré': 1249, 'esperanto': 1250, 'religiones': 1251, 'descubierto': 1252, 'doscientos': 1253, 'pueblo': 1254, 'hospedó': 1255, 'agitaba': 1256, 'ocupada': 1257, 'tareas': 1258, '¡señor': 1259, '¿no': 1260, 'esté': 1261, 'sirviendo': 1262, '¡ordena': 1263, 'venga': 1264, 'ayudarme': 1265, 'respondióle': 1266, '¡marta': 1267, 'andas': 1268, 'inquieta': 1269, 'preocupas': 1270, 'escogió': 1271, 'arrebatada': 1272, 'advertir': 1273, 'diferencia': 1274, 'peregrino': 1275, 'compostela': 1276, 'diario': 1277, 'mago': 1278, 'descriptivo': 1279, 'estudié': 1280, 'metales': 1281, 'suficientemente': 1282, 'fascinante': 1283, 'atraer': 1284, 'iniciara': 1285, 'confieso': 1286, 'seducía': 1287, 'acabaría': 1288, 'desesperaba': 1289, 'enterarme': 1290, 'prolongar': 1291, 'dedicarme': 1292, 'fabricación': 1293, 'sociales': 1294, 'setenta': 1295, 'brasil': 1296, 'publicaciones': 1297, 'serias': 1298, 'comencé': 1299, 'gastar': 1300, 'importados': 1301, 'dedicaba': 1302, 'diarias': 1303, 'complicada': 1304, 'simbología': 1305, 'intenté': 1306, 'ponerme': 1307, 'janeiro': 1308, 'dedicaban': 1309, 'seriamente': 1310, 'rehusaron': 1311, 'recibirme': 1312, 'poseían': 1313, 'prometían': 1314, 'secretos': 1315, 'verdaderas': 1316, 'fortunas': 1317, 'doy': 1318, 'sabían': 1319, 'pretendían': 1320, 'dedicación': 1321, 'resultados': 1322, 'absolutamente': 1323, 'nulos': 1324, 'sucedía': 1325, 'manuales': 1326, 'afirmaban': 1327, 'sinfín': 1328, 'dragones': 1329, 'leones': 1330, 'soles': 1331, 'lunas': 1332, 'mercurios': 1333, 'impresión': 1334, 'hallarme': 1335, 'equivocado': 1336, 'gigantesco': 1337, 'margen': 1338, 'error': 1339, '1973': 1340, 'desesperado': 1341, 'progresos': 1342, 'cometí': 1343, 'suprema': 1344, 'irresponsabilidad': 1345, 'secretaría': 1346, 'educación': 1347, 'mato': 1348, 'grosso': 1349, 'teatro': 1350, 'alumnos': 1351, 'teatrales': 1352, 'cuyo': 1353, 'tabla': 1354, 'unida': 1355, 'incursiones': 1356, 'mías': 1357, 'áreas': 1358, 'pantanosas': 1359, 'proverbio': 1360, 'derrumbó': 1361, 'completo': 1362, 'pasé': 1363, 'siguientes': 1364, 'escéptica': 1365, 'relación': 1366, 'tuviese': 1367, 'área': 1368, 'mística': 1369, 'exilio': 1370, 'espiritual': 1371, 'aceptamos': 1372, 'previamente': 1373, 'negamos': 1374, 'infinitamente': 1375, 'generosa': 1376, 'rigor': 1377, '1981': 1378, 'ram': 1379, 'reconduciría': 1380, 'trazado': 1381, 'entrenaba': 1382, 'volví': 1383, 'estudiar': 1384, 'conversábamos': 1385, 'extenuante': 1386, 'sesión': 1387, 'telepatía': 1388, 'vago': 1389, 'tipos': 1390, 'imprecisos': 1391, 'dirigido': 1392, 'oyeron': 1393, 'pertenecía': 1394, 'segundo': 1395, 'darme': 1396, 'irritaba': 1397, 'desorientaba': 1398, 'jung': 1399, 'inconsciente': 1400, 'colectivo': 1401, 'verdades': 1402, 'raciocinio': 1403, 'intelectual': 1404, 'negaba': 1405, 'aceptar': 1406, 'causa': 1407, 'simplicidad': 1408, 'tarea': 1409, 'sino': 1410, 'faz': 1411, 'evidente': 1412, 'viene': 1413, 'huevo': 1414, 'frasco': 1415, 'sumergirnos': 1416, 'texto': 1417, 'decurso': 1418, 'transmitir': 1419, 'procuro': 1420, 'rendir': 1421, 'escritores': 1422, 'universal': 1423, 'hemingway': 1424, 'blake': 1425, 'borges': 1426, 'utilizó': 1427, 'persa': 1428, 'cuentos': 1429, 'malba': 1430, 'tahan': 1431, 'extenso': 1432, 'prefacio': 1433, 'ilustrar': 1434, 'vale': 1435, 'laboratorio': 1436, 'monasterio': 1437, 'orgullosos': 1438, 'formaron': 1439, 'acercaban': 1440, 'rendirle': 1441, 'declamó': 1442, 'poemas': 1443, 'iluminaciones': 1444, 'realizado': 1445, 'biblia': 1446, 'recitó': 1447, 'santos': 1448, 'venerando': 1449, 'último': 1450, 'humilde': 1451, 'textos': 1452, 'humildes': 1453, 'trabajaban': 1454, 'circo': 1455, 'alrededores': 1456, 'lanzar': 1457, 'bolas': 1458, 'turno': 1459, 'monjes': 1460, 'quisieron': 1461, 'homenajes': 1462, 'malabarista': 1463, 'desacreditar': 1464, 'reprobatoria': 1465, 'hermanos': 1466, 'naranjas': 1467, 'tirarlas': 1468, 'aplaudir': 1469, 'regazo': 1470, 'dejarle': 1471, 'sostuviera': 1472, 'traído': 1473, 'tapas': 1474, 'identificar': 1475, 'fascinado': 1476, 'ahogado': 1477, 'flor': 1478, 'llamaron': 1479, 'diosas': 1480, 'vieron': 1481, 'transformado': 1482, 'cántaro': 1483, 'saladas': 1484, 'lloras': 1485, 'preguntaron': 1486, 'asombra': 1487, 'llores': 1488, 'prosiguieron': 1489, 'nosotras': 1490, 'corríamos': 1491, 'eras': 1492, 'saberlo': 1493, 'respondieron': 1494, 'sorprendidas': 1495, 'definitiva': 1496, 'márgenes': 1497, 'contemplarse': 1498, 'di': 1499, 'orilla': 1500, 'reflejada': 1501, 'oscurecer': 1502, 'abandonada': 1503, 'derrumbado': 1504, 'enorme': 1505, 'crecido': 1506, 'ocupaba': 1507, 'sacristía': 1508, 'entrasen': 1509, 'ruinas': 1510, 'luego': 1511, 'tablas': 1512, 'pudieran': 1513, 'escapado': 1514, 'prófuga': 1515, 'acostó': 1516, 'usando': 1517, 'almohada': 1518, 'comenzar': 1519, 'gruesos': 1520, 'tardaba': 1521, 'acabarlos': 1522, 'resultaban': 1523, 'almohadas': 1524, 'confortables': 1525, 'oscuro': 1526, 'estrellas': 1527, 'brillaban': 1528, 'semiderruido': 1529, 'querido': 1530, 'despertado': 1531, 'final': 1532, 'tomó': 1533, 'despertar': 1534, 'dormían': 1535, 'despertaba': 1536, 'energía': 1537, 'uniera': 1538, 'recorrían': 1539, 'horarios': 1540, 'contrario': 1541, 'tardaban': 1542, 'levantarse': 1543, 'llamando': 1544, 'creído': 1545, 'leía': 1546, 'fragmentos': 1547, 'soledad': 1548, 'comentaba': 1549, 'últimos': 1550, 'asunto': 1551, 'preocupaba': 1552, 'adonde': 1553, 'llegarían': 1554, 'presenciar': 1555, 'esquileo': 1556, 'evitar': 1557, 'falsificaciones': 1558, 'indicado': 1559, 'llevó': 1560, 'llena': 1561, 'rogó': 1562, 'esperase': 1563, 'atardecer': 1564, 'enfrente': 1565, 'femenina': 1566, 'típica': 1567, 'lisos': 1568, 'vagamente': 1569, 'antiguos': 1570, 'conquistadores': 1571, 'aprendiste': 1572, 'moza': 1573, 'escuela': 1574, 'disculpa': 1575, 'responder': 1576, 'seguro': 1577, 'muchacha': 1578, 'entendería': 1579, 'contando': 1580, 'ojillos': 1581, 'abrían': 1582, 'cerraban': 1583, 'espanto': 1584, 'sorpresa': 1585, 'transcurría': 1586, 'siguiera': 1587, 'mandase': 1588, 'niña': 1589, 'serían': 1590, 'mandó': 1591, 'pagó': 1592, 'estipulado': 1593, 'excitado': 1594, 'inseguro': 1595, 'chicas': 1596, 'importaba': 1597, 'marineros': 1598, 'viajantes': 1599, 'conocían': 1600, 'hacerles': 1601, 'olvidar': 1602, 'libres': 1603, 'rayar': 1604, 'necesitan': 1605, 'permanecen': 1606, 'sentían': 1607, 'continuarían': 1608, 'amigas': 1609, 'largas': 1610, 'arrastrándose': 1611, 'cortas': 1612, 'conocieran': 1613, 'contaban': 1614, 'aldeas': 1615, 'contentas': 1616, 'bastaba': 1617, 'ofrecían': 1618, 'generosamente': 1619, 'compañía': 1620, 'monstruo': 1621, 'decidiese': 1622, 'darían': 1623, 'exterminado': 1624, 'confían': 1625, 'olvidaron': 1626, 'instinto': 1627, 'llevo': 1628, 'extrañarse': 1629, 'creciendo': 1630, 'embrujada': 1631, 'soñase': 1632, 'provocando': 1633, 'compañeras': 1634, 'fieles': 1635, 'apretó': 1636, 'verano': 1637, 'prolongaba': 1638, 'cargar': 1639, 'quejarse': 1640, 'acordaba': 1641, 'preparados': 1642, 'sorpresas': 1643, 'agradecido': 1644, 'finalidad': 1645, 'recorrido': 1646, 'planicies': 1647, 'memoria': 1648, 'explicar': 1649, 'dieciséis': 1650, 'orgullo': 1651, 'campesina': 1652, 'estudió': 1653, 'latín': 1654, 'teología': 1655, 'soñaba': 1656, 'pecados': 1657, 'armado': 1658, 'continúan': 1659, 'van': 1660, 'opinan': 1661, 'presente': 1662, 'rubios': 1663, 'oscura': 1664, 'vinieron': 1665, 'quedan': 1666, 'traen': 1667, 'viajan': 1668, 'antiguas': 1669, 'españolas': 1670, 'dote': 1671, 'recorre': 1672, 'persistía': 1673, 'decenas': 1674, 'sepultarlo': 1675, 'horizonte': 1676, 'tiñó': 1677, 'esperaba': 1678, 'realizaba': 1679, 'hacerse': 1680, 'marinero': 1681, 'oportunidades': 1682, 'entiendo': 1683, 'buscan': 1684, 'nacía': 1685, 'inagotable': 1686, 'dejara': 1687, 'guiaran': 1688, 'poquito': 1689, 'terminar': 1690, 'descubriendo': 1691, 'caminos': 1692, 'perciben': 1693, 'estaciones': 1694, 'preocupadas': 1695, 'suceda': 1696, 'pienso': 1697, 'llenar': 1698, 'bota': 1699, 'afeitarse': 1700, 'cortarse': 1701, 'pelo': 1702, 'encuentro': 1703, 'pedir': 1704, 'justamente': 1705, 'apretaba': 1706, 'paso': 1707, 'interpretar': 1708, 'condujo': 1709, 'separado': 1710, 'cortina': 1711, 'hecha': 1712, 'tiras': 1713, 'plástico': 1714, 'varios': 1715, 'colores': 1716, 'sillas': 1717, 'rezo': 1718, 'viajaban': 1719, 'cuidaban': 1720, 'basaba': 1721, 'engañar': 1722, 'pacto': 1723, 'demonios': 1724, 'raptaban': 1725, 'criaturas': 1726, 'tenerlas': 1727, 'esclavas': 1728, 'misteriosos': 1729, 'campamentos': 1730, 'raptaran': 1731, 'temor': 1732, 'revivió': 1733, 'sujetaba': 1734, 'procurando': 1735, 'calmarse': 1736, 'empezaran': 1737, 'percibiese': 1738, 'rezó': 1739, 'padrenuestro': 1740, 'poniendo': 1741, 'nervioso': 1742, 'impedirlo': 1743, 'retiró': 1744, 'lean': 1745, 'dando': 1746, 'demasiada': 1747, 'podrás': 1748, 'truco': 1749, 'arriesgarse': 1750, 'corre': 1751, 'riesgo': 1752, 'sequía': 1753, 'oficio': 1754, 'excitante': 1755, 'tuve': 1756, 'seguidas': 1757, 'soñé': 1758, 'prado': 1759, 'molesten': 1760, 'asustan': 1761, 'niños': 1762, 'tocar': 1763, 'asusten': 1764, 'ordenó': 1765, 'olla': 1766, 'fuego': 1767, 'jugando': 1768, 'presionado': 1769, 'cogía': 1770, 'callada': 1771, 'pronunció': 1772, 'lentamente': 1773, 'vienes': 1774, 'mostrarme': 1775, 'desperté': 1776, 'estudiarlas': 1777, 'cobrarte': 1778, 'encuentras': 1779, '¡iba': 1780, 'ahorrarse': 1781, 'fama': 1782, 'tontos': 1783, 'interprete': 1784, 'jura': 1785, 'júrame': 1786, 'vas': 1787, 'decirte': 1788, 'juró': 1789, 'repitiera': 1790, 'juramento': 1791, 'merezco': 1792, 'hallazgo': 1793, 'oí': 1794, 'hará': 1795, 'buscado': 1796, 'simples': 1797, 'extraordinarias': 1798, 'sabia': 1799, 'artes': 1800, 'interpreto': 1801, 'llego': 1802, 'quedo': 1803, 'decepcionado': 1804, 'convencido': 1805, 'creería': 1806, 'colmado': 1807, 'saborear': 1808, 'caluroso': 1809, 'misterios': 1810, 'insondables': 1811, 'refrescar': 1812, 'entrada': 1813, 'zonas': 1814, 'acaba': 1815, 'vemos': 1816, 'terminamos': 1817, 'pasen': 1818, 'formar': 1819, 'forman': 1820, 'modificar': 1821, 'esperan': 1822, 'seamos': 1823, 'molestan': 1824, 'proporcionado': 1825, 'complicadísimos': 1826, 'escribía': 1827, 'sucesiva': 1828, 'lectores': 1829, 'tuviesen': 1830, 'nieve': 1831, 'transmitía': 1832, 'debajo': 1833, 'señalando': 1834, 'secamente': 1835, 'fingir': 1836, 'concentrado': 1837, 'viera': 1838, 'infinidad': 1839, 'deslumbrada': 1840, 'esquilaba': 1841, 'contaría': 1842, 'vivido': 1843, 'personalmente': 1844, 'daría': 1845, 'cansado': 1846, 'botella': 1847, 'callaría': 1848, 'costa': 1849, 'descortés': 1850, 'cambiarse': 1851, 'ancianos': 1852, 'pronunciar': 1853, 'título': 1854, 'cambiaría': 1855, 'humm': 1856, 'inspeccionando': 1857, 'costados': 1858, 'objeto': 1859, 'cambiarlo': 1860, 'incapacidad': 1861, 'escoger': 1862, 'termina': 1863, 'crea': 1864, '¿cuál': 1865, 'indagó': 1866, 'perdemos': 1867, 'control': 1868, 'gobernadas': 1869, 'sucedió': 1870, 'adivinado': 1871, 'menor': 1872, 'intención': 1873, 'devolvérselo': 1874, 'observó': 1875, 'vestía': 1876, 'raro': 1877, 'aparecían': 1878, 'compras': 1879, 'rezando': 1880, '¿de': 1881, 'cercana': 1882, 'preguntarlo': 1883, 'ignorancia': 1884, 'rato': 1885, 'venían': 1886, 'parecían': 1887, 'ocupadas': 1888, '¿que': 1889, 'soltó': 1890, 'carcajada': 1891, '¡vamos': 1892, '¡yo': 1893, 'raras': 1894, 'calladas': 1895, 'limitan': 1896, 'cuentan': 1897, 'fantásticas': 1898, 'oírlas': 1899, 'dejan': 1900, '¿cuántas': 1901, 'consideres': 1902, 'irritó': 1903, 'ayuda': 1904, 'devuélvame': 1905, 'dame': 1906, 'propuso': 1907, 'marido': 1908, 'arrancarle': 1909, 'información': 1910, 'inexistente': 1911, 'dijese': 1912, 'rama': 1913, 'escribir': 1914, 'brillar': 1915, 'intensidad': 1916, 'cegó': 1917, 'excesivamente': 1918, 'rápido': 1919, 'cubrir': 1920, 'recobraron': 1921, 'normalidad': 1922, 'pudo': 1923, 'escribiendo': 1924, 'principal': 1925, 'juegos': 1926, 'infancia': 1927, 'frías': 1928, 'ignoraba': 1929, 'contado': 1930, 'robó': 1931, 'matar': 1932, 'venados': 1933, 'solitaria': 1934, 'conversa': 1935, 'admiradísimo': 1936, 'deseaste': 1937, 'juventud': 1938, 've': 1939, 'trata': 1940, 'convencerlas': 1941, 'misteriosas': 1942, 'quedaría': 1943, 'boquiabierta': 1944, 'malas': 1945, 'enseñando': 1946, 'espíritu': 1947, 'planeta': 1948, 'firmeza': 1949, 'misión': 1950, '¿aunque': 1951, '¿o': 1952, 'casarse': 1953, 'alimenta': 1954, 'infelicidad': 1955, 'envidia': 1956, 'celos': 1957, 'realices': 1958, 'permanecieron': 1959, 'cuidas': 1960, 'prefirió': 1961, 'piensa': 1962, 'africa': 1963, 'entendió': 1964, 'sueña': 1965, 'elegido': 1966, 'duermen': 1967, 'intemperie': 1968, 'prefieren': 1969, 'punzada': 1970, 'piensan': 1971, 'pasa': 1972, 'hojeó': 1973, 'distrajo': 1974, 'intentas': 1975, 'aparece': 1976, 'dejé': 1977, 'aparezco': 1978, 'salida': 1979, 'crucial': 1980, 'vuelva': 1981, 'da': 1982, 'buscador': 1983, 'esmeraldas': 1984, 'trabajó': 1985, 'faltaba': 1986, 'apostado': 1987, 'intervenir': 1988, 'rodó': 1989, 'pie': 1990, 'frustración': 1991, 'perdidos': 1992, 'chocó': 1993, 'rompió': 1994, 'mostrando': 1995, 'aprenden': 1996, 'amargura': 1997, 'desisten': 1998, 'empezado': 1999, 'levantados': 2000, 'torrentes': 2001, 'enterrados': 2002, 'prosiguió': 2003, 'cederme': 2004, 'decepcionó': 2005, 'empiezas': 2006, 'prometer': 2007, 'perderás': 2008, 'prometido': 2009, 'listos': 2010, 'suspiro': 2011, 'guerreros': 2012, 'luz': 2013, 'intentan': 2014, 'devolvió': 2015, 'traes': 2016, 'tardes': 2017, 'desapareció': 2018, 'intentó': 2019, 'agitado': 2020, 'tenso': 2021, 'meditaba': 2022, 'contaba': 2023, 'pasaría': 2024, 'abandonarlo': 2025, 'evitarle': 2026, 'edificio': 2027, 'pasajes': 2028, 'contestó': 2029, 'alejándose': 2030, 'espantaba': 2031, 'soñador': 2032, 'ayudante': 2033, 'alejaba': 2034, 'aprendiéndolo': 2035, 'pastoreo': 2036, 'preñadas': 2037, 'protegerlas': 2038, 'justo': 2039, 'rampa': 2040, 'sentarse': 2041, 'explicado': 2042, 'ocasión': 2043, 'ocuparon': 2044, 'detestaba': 2045, 'trajeron': 2046, 'inclusive': 2047, 'conversado': 2048, 'maldita': 2049, 'interpretase': 2050, 'concedían': 2051, 'solitarias': 2052, 'confiaban': 2053, 'terminaran': 2054, 'aficionándose': 2055, 'cría': 2056, 'cuáles': 2057, 'perezosas': 2058, 'esquilarlas': 2059, 'decidiera': 2060, 'sufrirían': 2061, 'hordas': 2062, 'conoció': 2063, 'suponía': 2064, 'peligro': 2065, 'invadirnos': 2066, 'dependía': 2067, 'acordara': 2068, 'notaría': 2069, 'aparecen': 2070, 'cruza': 2071, 'abandoné': 2072, 'acostumbraron': 2073, 'acostumbré': 2074, 'acostumbrarán': 2075, 'ausencia': 2076, 'papelinas': 2077, 'beso': 2078, 'comenzado': 2079, 'cubiertas': 2080, 'desconocido': 2081, 'aventuras': 2082, 'envidiar': 2083, 'libertad': 2084, 'percibió': 2085, 'impedía': 2086, 'excepto': 2087, 'pasos': 2088, 'mediodía': 2089, 'exclamó': 2090, 'llamamos': 2091, 'juegas': 2092, 'cartas': 2093, 'verás': 2094, 'examinar': 2095, 'inteligente': 2096, 'producía': 2097, '¿dónde': 2098, 'asustó': 2099, 'dijera': 2100, 'mariposa': 2101, 'revolotear': 2102, 'mariposas': 2103, 'grillos': 2104, 'mariquitas': 2105, 'lagartijas': 2106, 'tréboles': 2107, 'hojas': 2108, 'enseñó': 2109, 'cubría': 2110, 'detectado': 2111, 'macizo': 2112, 'disfrazado': 2113, 'asaltantes': 2114, 'toma': 2115, 'prendidas': 2116, 'tengas': 2117, 'dificultad': 2118, 'serán': 2119, 'utilidad': 2120, 'hazles': 2121, 'objetiva': 2122, 'general': 2123, 'procura': 2124, 'sabías': 2125, 'tuviste': 2126, 'ayudé': 2127, 'tomaría': 2128, 'contarte': 2129, 'envió': 2130, 'aprendiera': 2131, 'anduvo': 2132, 'cuarenta': 2133, 'santo': 2134, 'héroe': 2135, 'actividad': 2136, 'salían': 2137, 'rincones': 2138, 'orquesta': 2139, 'tocaba': 2140, 'melodías': 2141, 'suaves': 2142, 'repleta': 2143, 'deliciosos': 2144, 'manjares': 2145, 'conversaba': 2146, 'atendiera': 2147, 'escuchó': 2148, 'visita': 2149, 'sugirió': 2150, 'diese': 2151, 'paseo': 2152, 'volviese': 2153, 'pedirte': 2154, 'entregándole': 2155, 'camines': 2156, 'lleva': 2157, 'cuida': 2158, 'derrame': 2159, 'escalinatas': 2160, 'manteniendo': 2161, 'pasadas': 2162, 'retornó': 2163, 'tapices': 2164, 'persia': 2165, 'comedor': 2166, 'jardín': 2167, 'jardineros': 2168, 'tardó': 2169, 'crear': 2170, '¿reparaste': 2171, 'pergaminos': 2172, 'biblioteca': 2173, 'confesó': 2174, 'preocupación': 2175, 'derramar': 2176, 'confiado': 2177, 'conoce': 2178, 'conoces': 2179, 'pasear': 2180, 'obras': 2181, 'adornaban': 2182, 'paredes': 2183, 'jardines': 2184, 'montañas': 2185, 'flores': 2186, 'esmero': 2187, 'colocada': 2188, 'relató': 2189, 'detalladamente': 2190, 'confié': 2191, 'derramado': 2192, 'consejo': 2193, 'olvidarse': 2194, 'comprendido': 2195, 'olvida': 2196, 'extendidas': 2197, 'gestos': 2198, 'construido': 2199, 'sienta': 2200, 'consigue': 2201, 'pedazo': 2202, 'muralla': 2203, 'agitaban': 2204, 'temerosas': 2205, 'excitadas': 2206, 'zarpando': 2207, 'volvería': 2208, 'abraham': 2209, 'haberle': 2210, 'diezmo': 2211, 'íntimamente': 2212, 'éxito': 2213, 'lástima': 2214, 'olvidará': 2215, 'habérselo': 2216, 'hablase': 2217, 'diría': 2218, 'vanidad': 2219, 'vanidades': 2220, 'bares': 2221, 'fumaban': 2222, 'gigante': 2223, 'altas': 2224, 'comenzaban': 2225, 'arrodillaban': 2226, 'golpeaban': 2227, 'matamoros': 2228, 'caballo': 2229, 'desenvainada': 2230, 'figuras': 2231, 'aquéllas': 2232, 'terriblemente': 2233, 'siniestra': 2234, 'alejarlo': 2235, 'bebida': 2236, 'preferido': 2237, 'preocuparse': 2238, 'exclusivamente': 2239, 'mágico': 2240, 'mentir': 2241, 'obtener': 2242, 'atravesaba': 2243, 'refería': 2244, 'cielos': 2245, 'pájaro': 2246, 'cercanía': 2247, 'arbusto': 2248, 'conduce': 2249, 'conducirá': 2250, 'oyó': 2251, 'preguntaba': 2252, 'inmensamente': 2253, 'aparecido': 2254, 'hablas': 2255, 'interesó': 2256, 'occidentales': 2257, 'color': 2258, 'altura': 2259, 'siéntate': 2260, 'detesto': 2261, 'religión': 2262, 'callarse': 2263, 'llevarlo': 2264, 'ofrecimientos': 2265, 'llevaras': 2266, 'pagarte': 2267, '¿tú': 2268, 'llega': 2269, 'molesto': 2270, 'perder': 2271, 'necesita': 2272, 'extrañó': 2273, 'formulado': 2274, 'confiaba': 2275, 'acercó': 2276, 'intercambiaron': 2277, '¡vámonos': 2278, 'quedemos': 2279, 'agarró': 2280, 'empujó': 2281, 'acompañó': 2282, 'puertos': 2283, 'ayudado': 2284, 'crítica': 2285, 'cogiendo': 2286, 'salieron': 2287, 'andando': 2288, 'funcionaba': 2289, 'millares': 2290, 'discutiendo': 2291, 'hortalizas': 2292, 'dagas': 2293, 'pipas': 2294, 'apartaba': 2295, 'pedirle': 2296, 'devolviera': 2297, 'temió': 2298, 'considerara': 2299, 'costumbres': 2300, 'pisando': 2301, 'bastará': 2302, 'vigilarlo': 2303, 'confusión': 2304, 'vaina': 2305, 'plateada': 2306, 'empuñadura': 2307, 'prometió': 2308, 'regresara': 2309, 'compraría': 2310, 'pregúntale': 2311, 'cuánto': 2312, 'cuesta': 2313, 'quedado': 2314, 'segundos': 2315, 'mirándola': 2316, 'comprimido': 2317, 'encogido': 2318, 'armó': 2319, 'vuelta': 2320, 'viniendo': 2321, 'gritando': 2322, 'avellanas': 2323, 'lechugas': 2324, 'cobre': 2325, 'absoluta': 2326, 'definitivamente': 2327, 'compañero': 2328, 'vista': 2329, 'momentáneamente': 2330, 'resolvió': 2331, 'esperando': 2332, 'individuo': 2333, 'subió': 2334, 'arrodillaron': 2335, 'golpearon': 2336, 'cantaron': 2337, 'ejército': 2338, 'laboriosas': 2339, 'hormigas': 2340, 'deshicieron': 2341, 'marcharon': 2342, 'escondió': 2343, 'blancas': 2344, 'rodeaban': 2345, 'cita': 2346, 'concertada': 2347, 'suceder': 2348, 'espacio': 2349, 'puedan': 2350, 'acostumbrarse': 2351, 'vergüenza': 2352, 'llorado': 2353, 'patria': 2354, 'retribuía': 2355, 'creían': 2356, 'irradiaba': 2357, 'veían': 2358, 'recibían': 2359, 'infeliz': 2360, 'haré': 2361, 'confiaré': 2362, 'traicionó': 2363, 'odiar': 2364, 'encontraron': 2365, 'procuraré': 2366, 'conservar': 2367, 'abarcar': 2368, 'bocadillo': 2369, 'comido': 2370, 'alivio': 2371, 'cambiado': 2372, 'extraídas': 2373, 'esconderlas': 2374, 'intentando': 2375, 'avisarle': 2376, 'confiara': 2377, 'veo': 2378, 'desearía': 2379, 'sucedieran': 2380, 'suceden': 2381, 'tocó': 2382, 'temperatura': 2383, 'superficie': 2384, 'lisa': 2385, 'tranquilidad': 2386, 'conseguirla': 2387, 'acerca': 2388, 'sirven': 2389, 'adivinación': 2390, 'formulara': 2391, 'preguntas': 2392, 'claras': 2393, '¿voy': 2394, 'saco': 2395, 'escurrieron': 2396, 'tela': 2397, 'roto': 2398, 'colocarlas': 2399, 'surgió': 2400, 'adentros': 2401, 'despues': 2402, 'colocar': 2403, 'coser': 2404, 'podrían': 2405, 'escaparse': 2406, 'quisieran': 2407, 'preguntar': 2408, 'prometí': 2409, 'mundos': 2410, 'incluso': 2411, 'llegase': 2412, 'supieran': 2413, 'olvidaría': 2414, 'costó': 2415, 'caro': 2416, 'contemplarla': 2417, 'tampoco': 2418, 'pobre': 2419, 'víctima': 2420, 'cansancio': 2421, 'tocando': 2422, 'codo': 2423, 'recomenzar': 2424, 'fe': 2425, 'escogido': 2426, 'deambular': 2427, 'prisa': 2428, 'comerciantes': 2429, 'levantaban': 2430, 'paradas': 2431, 'suya': 2432, 'despierto': 2433, 'buen': 2434, 'misterioso': 2435, 'hacerlos': 2436, 'próxima': 2437, 'mirarla': 2438, 'tenderete': 2439, 'comió': 2440, 'alejado': 2441, 'montado': 2442, 'experimenté': 2443, 'practico': 2444, 'aprendiendo': 2445, 'experimentado': 2446, 'notarlas': 2447, 'notado': 2448, 'conseguiré': 2449, 'ansiedad': 2450, 'conseguiría': 2451, 'exigía': 2452, 'paciencia': 2453, 'virtud': 2454, 'aplicando': 2455, 'lecciones': 2456, 'nacer': 2457, 'angustia': 2458, 'experimentaba': 2459, 'mañanas': 2460, 'raramente': 2461, 'comprador': 2462, 'geólogos': 2463, 'franceses': 2464, 'ingleses': 2465, 'soldados': 2466, 'alemanes': 2467, 'hermosas': 2468, 'vejez': 2469, 'ceuta': 2470, 'creció': 2471, 'vecinos': 2472, 'mudaron': 2473, 'subía': 2474, 'elección': 2475, 'minutos': 2476, 'detuvo': 2477, 'experimentados': 2478, 'adivinaron': 2479, 'ponía': 2480, 'lenguas': 2481, 'comprarlos': 2482, 'necesitar': 2483, 'media': 2484, 'limpió': 2485, 'intervalo': 2486, 'compraron': 2487, 'limpiarlo': 2488, 'colgó': 2489, 'minúsculo': 2490, 'situado': 2491, 'sentaron': 2492, 'existente': 2493, 'aseguró': 2494, 'obliga': 2495, 'hambre': 2496, '¿entonces': 2497, 'hiciera': 2498, 'sucios': 2499, 'necesitábamos': 2500, 'malos': 2501, 'cabezas': 2502, 'trabajases': 2503, 'limpiabas': 2504, 'limpiaré': 2505, 'madrugada': 2506, 'limpiases': 2507, 'ganases': 2508, 'prestado': 2509, 'pareció': 2510, 'existían': 2511, 'bazares': 2512, 'discusiones': 2513, 'alminares': 2514, 'cantaban': 2515, 'espadas': 2516, 'empuñaduras': 2517, 'terminado': 2518, 'esperanza': 2519, 'viejos': 2520, 'reyes': 2521, 'leyendas': 2522, 'personales': 2523, 'permaneciese': 2524, 'inmóvil': 2525, 'dolor': 2526, 'vacía': 2527, 'tremendas': 2528, 'desaparecido': 2529, 'vuelvas': 2530, 'arregló': 2531, 'trabajaré': 2532, 'aquél': 2533, 'refunfuñando': 2534, 'pidiéndole': 2535, 'romper': 2536, 'cascarrabias': 2537, 'recibía': 2538, 'pieza': 2539, 'vendida': 2540, 'ciertos': 2541, 'cálculos': 2542, 'ritmo': 2543, 'necesitaría': 2544, 'podríamos': 2545, 'colocarla': 2546, 'exterior': 2547, 'captar': 2548, 'abajo': 2549, 'tropezar': 2550, 'romperían': 2551, 'atendió': 2552, 'tiempos': 2553, 'principales': 2554, 'atracciones': 2555, 'viva': 2556, 'devolverá': 2557, '¿para': 2558, 'exigir': 2559, 'arrepintió': 2560, 'caja': 2561, 'ganando': 2562, 'pensado': 2563, 'ventas': 2564, 'aumentarían': 2565, 'ofrecido': 2566, 'intuición': 2567, 'breve': 2568, 'querías': 2569, 'mencionar': 2570, 'recuerdo': 2571, 'doloroso': 2572, 'trataba': 2573, 'evitarlo': 2574, 'construirte': 2575, 'soñó': 2576, 'atender': 2577, 'buscó': 2578, 'gustan': 2579, 'hassan': 2580, 'equivoca': 2581, 'afecta': 2582, 'convivir': 2583, 'errores': 2584, 'aprovechar': 2585, 'ayudarla': 2586, 'ayudando': 2587, 'callado': 2588, 'únicamente': 2589, 'obligaciones': 2590, 'ayunar': 2591, 'ramadán': 2592, 'caridad': 2593, 'llenaron': 2594, 'fervoroso': 2595, 'carácter': 2596, 'impaciente': 2597, 'procuraba': 2598, 'acuerdo': 2599, 'musulmana': 2600, 'sentí': 2601, 'musulmán': 2602, 'preferí': 2603, 'marcha': 2604, 'ganar': 2605, 'cuidando': 2606, 'delicadas': 2607, 'dirigían': 2608, 'peregrinos': 2609, 'ricos': 2610, 'séquito': 2611, 'criados': 2612, 'volvían': 2613, 'contentos': 2614, 'colocaban': 2615, 'peregrinación': 2616, 'regresaron': 2617, 'zapatero': 2618, 'remendar': 2619, 'botas': 2620, 'ajenas': 2621, 'caminado': 2622, 'cansaba': 2623, 'manzanas': 2624, 'cuero': 2625, 'inquirió': 2626, 'mantiene': 2627, 'soportar': 2628, 'jarrones': 2629, 'estantes': 2630, 'restaurante': 2631, 'horrible': 2632, 'motivos': 2633, 'sueñas': 2634, 'travesía': 2635, 'llegada': 2636, 'siete': 2637, 'vueltas': 2638, 'debo': 2639, 'torno': 2640, 'tocarla': 2641, 'estarán': 2642, 'conversaciones': 2643, 'compartiremos': 2644, 'prefiero': 2645, 'soñando': 2646, 'permiso': 2647, 'construir': 2648, 'atrajo': 2649, 'duplicado': 2650, 'negociar': 2651, 'desembarcaría': 2652, 'triunfador': 2653, 'acuérdate': 2654, 'lograrlo': 2655, 'esa': 2656, 'doblar': 2657, 'número': 2658, 'quejándose': 2659, 'decente': 2660, 'subida': 2661, 'suben': 2662, 'venden': 2663, 'degustará': 2664, 'querrá': 2665, 'seduce': 2666, 'cerrar': 2667, 'borde': 2668, 'convidó': 2669, 'usaban': 2670, 'buscas': 2671, 'profunda': 2672, 'calada': 2673, 'malo': 2674, 'funcionamiento': 2675, 'sirves': 2676, 'crecerá': 2677, 'tendré': 2678, 'llegaras': 2679, 'cambiaban': 2680, 'quiebra': 2681, 'progresaban': 2682, 'provocaba': 2683, 'tristeza': 2684, 'quise': 2685, 'hacerlo': 2686, 'fuiste': 2687, 'entendiendo': 2688, 'aceptada': 2689, 'transforma': 2690, 'maldición': 2691, 'empujando': 2692, 'riquezas': 2693, 'horizontes': 2694, 'inmensas': 2695, 'posibilidades': 2696, 'sentiré': 2697, 'peor': 2698, 'tenerlo': 2699, 'satisfecho': 2700, 'logrado': 2701, 'creyó': 2702, 'enseñarle': 2703, 'preocupan': 2704, 'significa': 2705, 'traducción': 2706, 'apagaba': 2707, 'detener': 2708, 'llegaban': 2709, 'cansados': 2710, 'refrescante': 2711, 'menta': 2712, 'ocurrió': 2713, 'visitas': 2714, 'impresionar': 2715, 'invitados': 2716, 'riqueza': 2717, 'afirmó': 2718, 'sabor': 2719, 'conservaban': 2720, 'aroma': 2721, 'tradición': 2722, 'oriente': 2723, 'mágicos': 2724, 'noticia': 2725, 'difundió': 2726, 'abrieron': 2727, 'vasos': 2728, 'cima': 2729, 'desiertas': 2730, 'contratar': 2731, 'empleados': 2732, 'importar': 2733, 'cantidades': 2734, 'enormes': 2735, 'consumían': 2736, 'transcurrieron': 2737, 'saliera': 2738, 'nueve': 2739, 'pisó': 2740, 'africano': 2741, 'vistió': 2742, 'lino': 2743, 'comprada': 2744, 'especialmente': 2745, 'pañuelo': 2746, 'fijado': 2747, 'anillo': 2748, 'camello': 2749, 'calzó': 2750, 'sandalias': 2751, 'sándwich': 2752, 'sésamo': 2753, 'caliente': 2754, 'jarra': 2755, 'umbral': 2756, 'fumó': 2757, 'constante': 2758, 'soplaba': 2759, 'trayendo': 2760, 'bolsillos': 2761, 'traje': 2762, 'extraído': 2763, 'mazo': 2764, 'billetes': 2765, 'ciento': 2766, 'veinte': 2767, 'licencia': 2768, 'pacientemente': 2769, 'levantara': 2770, 'abriera': 2771, 'pido': 2772, 'trajiste': 2773, 'volverás': 2774, 'simplemente': 2775, 'llenó': 2776, 'saliendo': 2777, 'reparó': 2778, 'tirado': 2779, 'arrugado': 2780, 'última': 2781, 'regalársela': 2782, 'rodaron': 2783, 'sorprendió': 2784, 'darse': 2785, 'gacha': 2786, 'desistas': 2787, 'sigue': 2788, 'indicaban': 2789, 'volveré': 2790, 'enseñaron': 2791, 'usado': 2792, 'entusiasmo': 2793, 'hechas': 2794, 'amor': 2795, 'creía': 2796, 'conquistado': 2797, 'puedas': 2798, 'realizarla': 2799, 'referencia': 2800, 'robos': 2801, 'desiertos': 2802, 'inmensos': 2803, 'desean': 2804, 'realizarlos': 2805, 'poseía': 2806, 'escalera': 2807, 'atendiendo': 2808, 'paseaban': 2809, 'tomando': 2810, 'cabello': 2811, 'adónde': 2812, 'marca': 2813, 'despedirse': 2814, 'nostalgia': 2815, 'ánimos': 2816, 'volviendo': 2817, 'minuto': 2818, 'perdiendo': 2819, 'irá': 2820, 'vivirá': 2821, 'ilusión': 2822, 'conocerla': 2823, 'sosteniendo': 2824, 'traían': 2825, 'coincidencia': 2826, 'trajo': 2827, 'taza': 2828, 'olvidaré': 2829, 'tenga': 2830, 'llanuras': 2831, 'andaluzas': 2832, 'enfocar': 2833, 'tardado': 2834, 'amadas': 2835, 'amado': 2836, 'esconde': 2837, 'encontrarlo': 2838, 'escondiera': 2839, 'sucedían': 2840, 'proveedores': 2841, 'caravanas': 2842, 'cruzaban': 2843, 'mantuvo': 2844, 'reemprendido': 2845, 'viven': 2846, 'costaba': 2847, 'averiguar': 2848, 'interior': 2849, 'edificación': 2850, 'olía': 2851, 'polvo': 2852, 'considerar': 2853, 'revista': 2854, 'química': 2855, 'conducen': 2856, 'creer': 2857, 'estudios': 2858, 'concentraron': 2859, 'búsqueda': 2860, 'interesado': 2861, 'diversas': 2862, 'investigaciones': 2863, 'vano': 2864, 'entrar': 2865, 'pensaban': 2866, 'mismos': 2867, 'rehusaban': 2868, 'ayudar': 2869, 'encerraban': 2870, 'fortuna': 2871, 'inútilmente': 2872, 'consultado': 2873, 'bibliotecas': 2874, 'raros': 2875, 'famoso': 2876, 'europa': 2877, 'expedición': 2878, 'arqueológica': 2879, 'excepcionales': 2880, 'oasis': 2881, 'metal': 2882, 'cabía': 2883, 'emoción': 2884, 'canceló': 2885, 'compromisos': 2886, 'parecido': 2887, 'afuera': 2888, 'preparaba': 2889, 'maldito': 2890, 'tolerable': 2891, 'cargado': 2892, 'saludó': 2893, '¿adónde': 2894, 'seguramente': 2895, 'sometería': 2896, 'gracia': 2897, 'leerlo': 2898, 'interrumpiera': 2899, 'tomaba': 2900, 'zambulléndose': 2901, 'poderosa': 2902, 'corriente': 2903, 'confirmar': 2904, 'razonamiento': 2905, 'encuentre': 2906, 'mía': 2907, 'curso': 2908, 'tomará': 2909, 'misterio': 2910, 'antipático': 2911, 'mirado': 2912, 'desprecio': 2913, 'cerró': 2914, 'parecerse': 2915, '¡un': 2916}\n",
      "Total de palabras:  2917\n"
     ]
    }
   ],
   "source": [
    "# Instanciamos el Tokenizer\n",
    "tokenizer = Tokenizer()\n",
    "\n",
    "# El fit_on_texts nos permite crear el diccionario (palabras únicas)\n",
    "tokenizer.fit_on_texts([text])\n",
    "\n",
    "# Ahora en total_words tenemos el número total de palabras únicas\n",
    "total_words = len(tokenizer.word_index) + 1\n",
    "\n",
    "print('Diccionario: ', tokenizer.word_index)\n",
    "print('Total de palabras: ', total_words)"
   ]
  },
  {
   "cell_type": "code",
   "execution_count": 33,
   "metadata": {},
   "outputs": [],
   "source": [
    "# Definimos una función para crear las frases que usaremos para entrenar el modelo.\n",
    "def create_phrases(text):\n",
    "    # Ahora vamos a crear los datos que seran utilizados\n",
    "    frases = []\n",
    "\n",
    "    # Unimos todo el texto en una sola linea, para luego separarlo por puntos (.). Esto nos permite tener frases completas.\n",
    "    texto_unido = text.replace('\\n', '.')\n",
    "\n",
    "    # Separamos el texto por frases (En este caso por puntos)\n",
    "    for line in texto_unido.split('.'):\n",
    "        # tokenizer.texts_to_sequences nos permite basandonos en el vocabulario convertir cada palabra en un entero\n",
    "        # Ejemplo: 'Hola mundo' -> [1, 2]\n",
    "        lista_indices = tokenizer.texts_to_sequences([line])[0]\n",
    "\n",
    "        for i in range(1, len(lista_indices)):\n",
    "            # Vamos a crear frases de 2 palabras, 3 palabras, 4 palabras, etc.\n",
    "            # Ejemplo: 'Hola mundo que tal' -> [1, 2, 3, 4] (En el paso anterior)\n",
    "            # Se van creando frases así -> [1, 2] -> [1, 2, 3] -> [1, 2, 3, 4]\n",
    "            sequence = lista_indices[:i+1]\n",
    "            frases.append(sequence)\n",
    "\n",
    "    return frases"
   ]
  },
  {
   "cell_type": "code",
   "execution_count": 34,
   "metadata": {},
   "outputs": [
    {
     "name": "stdout",
     "output_type": "stream",
     "text": [
      "Cantidad de frases creadas: 14870\n"
     ]
    }
   ],
   "source": [
    "# Creamos las frases\n",
    "frases = create_phrases(text)\n",
    "\n",
    "# Mostramos la cantidad de frases creadas\n",
    "print('Cantidad de frases creadas:', len(frases))"
   ]
  },
  {
   "cell_type": "markdown",
   "metadata": {},
   "source": [
    "### Generación de los datos"
   ]
  },
  {
   "cell_type": "code",
   "execution_count": 10,
   "metadata": {},
   "outputs": [],
   "source": [
    "# Antes de crear los datos vamos a calcular la longitud máxima de las frases\n",
    "max_len = max([len(x) for x in frases])\n",
    "\n",
    "# Ahora vamos a rellenar las frases para que todas tengan la misma longitud\n",
    "# Ejemplo: [1, 2] -> [0, 0, 0, 1, 2]\n",
    "# pad_sequences nos permite hacer esto, en donde:\n",
    "# - maxlen indica la longitud máxima de las frases\n",
    "# - padding indica si se rellena al inicio o al final\n",
    "frases_ajustadas = np.array(pad_sequences(frases, maxlen=max_len, padding='pre'))"
   ]
  },
  {
   "cell_type": "code",
   "execution_count": 11,
   "metadata": {},
   "outputs": [],
   "source": [
    "# Ahora vamos a crear los datos de entrenamiento y las etiquetas\n",
    "datos = frases_ajustadas[:, :-1] # Todas las columnas menos la última\n",
    "etiquetas = frases_ajustadas[:, -1] # La última columna"
   ]
  },
  {
   "cell_type": "code",
   "execution_count": 12,
   "metadata": {},
   "outputs": [],
   "source": [
    "# Ahora vamos a categorizar las etiquetas para que sean valores binarios\n",
    "# Ejemplo: 2 -> [0, 1, 0, 0, 0, 0, 0]\n",
    "# Esto es necesario para que la red neuronal pueda predecir la siguiente palabra.\n",
    "\n",
    "# Para ello utilizaremos la función to_categorical, en donde:\n",
    "# - num_classes indica el número total de palabras únicas\n",
    "etiquetas_ajustadas = to_categorical(etiquetas, num_classes=total_words)"
   ]
  },
  {
   "cell_type": "markdown",
   "metadata": {},
   "source": [
    "## Red Neuronal Recurrente"
   ]
  },
  {
   "cell_type": "markdown",
   "metadata": {},
   "source": [
    "### Creamos el modelo de la red neuronal recurrente long short-term memory.\n",
    "Se escogió la red LSTM porque es una red recurrente que permite recordar información de largo plazo. Esto es importante para el problema de predecir la siguiente palabra en un texto, ya que la red no solo debe recordar la palabra anterior para poder predecir la siguiente, sino también el contexto que viene de toda la secuencia de palabras previas."
   ]
  },
  {
   "cell_type": "code",
   "execution_count": 13,
   "metadata": {},
   "outputs": [
    {
     "name": "stdout",
     "output_type": "stream",
     "text": [
      "WARNING:tensorflow:From c:\\Users\\Alejandro Molina\\AppData\\Local\\Programs\\Python\\Python311\\Lib\\site-packages\\keras\\src\\backend.py:873: The name tf.get_default_graph is deprecated. Please use tf.compat.v1.get_default_graph instead.\n",
      "\n",
      "Model: \"sequential\"\n",
      "_________________________________________________________________\n",
      " Layer (type)                Output Shape              Param #   \n",
      "=================================================================\n",
      " embedding (Embedding)       (None, 59, 256)           746752    \n",
      "                                                                 \n",
      " lstm (LSTM)                 (None, 512)               1574912   \n",
      "                                                                 \n",
      " dense (Dense)               (None, 2917)              1496421   \n",
      "                                                                 \n",
      "=================================================================\n",
      "Total params: 3818085 (14.56 MB)\n",
      "Trainable params: 3818085 (14.56 MB)\n",
      "Non-trainable params: 0 (0.00 Byte)\n",
      "_________________________________________________________________\n",
      "None\n"
     ]
    }
   ],
   "source": [
    "# Ahora vamos a crear el modelo\n",
    "\n",
    "# Sequential nos permite crear el modelo de forma secuencial\n",
    "model = Sequential()\n",
    "\n",
    "# Embedding nos permite crear una matriz de vectores de palabras, en donde:\n",
    "# - total_words indica el número total de palabras únicas\n",
    "# - 256 indica la longitud de los vectores\n",
    "# - input_length indica la longitud de las frases\n",
    "model.add(Embedding(total_words, 256, input_length=max_len-1))\n",
    "\n",
    "# LSTM nos permite crear una capa de LSTM, en donde:\n",
    "# - 512 indica el número de unidades de la capa (neuronas)\n",
    "model.add(LSTM(512))\n",
    "\n",
    "# Dense nos permite crear una capa densa, en donde:\n",
    "# - total_words indica el número total de palabras únicas\n",
    "# - softmax nos permite obtener la probabilidad de cada palabra\n",
    "model.add(Dense(total_words, activation='softmax'))\n",
    "\n",
    "# Mostamos el resumen del modelo\n",
    "print(model.summary())"
   ]
  },
  {
   "cell_type": "markdown",
   "metadata": {},
   "source": [
    "## Esquema de entrenamiento"
   ]
  },
  {
   "cell_type": "markdown",
   "metadata": {},
   "source": [
    "Para el entrenamiento de la red neuronal recurrente utilizaremos como loss la función 'categorical_crossentropy' porque al ser un problema de clasificación multiclase esta nos permite calcular la pérdida entre la etiqueta y la predicción.\n",
    "\n",
    "Debemos tomar en cuenta que para este tipo de red no se puede utilizar como función de loss la 'mean_squared_error' porque esta no es capaz de calcular la pérdida entre la etiqueta y la predicción cuando se trata de un problema de clasificación multiclase."
   ]
  },
  {
   "cell_type": "code",
   "execution_count": 14,
   "metadata": {},
   "outputs": [
    {
     "name": "stdout",
     "output_type": "stream",
     "text": [
      "WARNING:tensorflow:From c:\\Users\\Alejandro Molina\\AppData\\Local\\Programs\\Python\\Python311\\Lib\\site-packages\\keras\\src\\optimizers\\__init__.py:309: The name tf.train.Optimizer is deprecated. Please use tf.compat.v1.train.Optimizer instead.\n",
      "\n",
      "Epoch 1/20\n",
      "WARNING:tensorflow:From c:\\Users\\Alejandro Molina\\AppData\\Local\\Programs\\Python\\Python311\\Lib\\site-packages\\keras\\src\\utils\\tf_utils.py:492: The name tf.ragged.RaggedTensorValue is deprecated. Please use tf.compat.v1.ragged.RaggedTensorValue instead.\n",
      "\n",
      "WARNING:tensorflow:From c:\\Users\\Alejandro Molina\\AppData\\Local\\Programs\\Python\\Python311\\Lib\\site-packages\\keras\\src\\engine\\base_layer_utils.py:384: The name tf.executing_eagerly_outside_functions is deprecated. Please use tf.compat.v1.executing_eagerly_outside_functions instead.\n",
      "\n",
      "465/465 [==============================] - 166s 338ms/step - loss: 6.4842 - accuracy: 0.0532\n",
      "Epoch 2/20\n",
      "465/465 [==============================] - 158s 339ms/step - loss: 5.7333 - accuracy: 0.0944\n",
      "Epoch 3/20\n",
      "465/465 [==============================] - 176s 380ms/step - loss: 5.1339 - accuracy: 0.1340\n",
      "Epoch 4/20\n",
      "465/465 [==============================] - 181s 390ms/step - loss: 4.5245 - accuracy: 0.1726\n",
      "Epoch 5/20\n",
      "465/465 [==============================] - 154s 330ms/step - loss: 3.8170 - accuracy: 0.2263\n",
      "Epoch 6/20\n",
      "465/465 [==============================] - 153s 329ms/step - loss: 3.0209 - accuracy: 0.3330\n",
      "Epoch 7/20\n",
      "465/465 [==============================] - 149s 321ms/step - loss: 2.2329 - accuracy: 0.4909\n",
      "Epoch 8/20\n",
      "465/465 [==============================] - 155s 332ms/step - loss: 1.5837 - accuracy: 0.6516\n",
      "Epoch 9/20\n",
      "465/465 [==============================] - 157s 337ms/step - loss: 1.1085 - accuracy: 0.7724\n",
      "Epoch 10/20\n",
      "465/465 [==============================] - 156s 336ms/step - loss: 0.7836 - accuracy: 0.8463\n",
      "Epoch 11/20\n",
      "465/465 [==============================] - 156s 335ms/step - loss: 0.5806 - accuracy: 0.8862\n",
      "Epoch 12/20\n",
      "465/465 [==============================] - 141s 303ms/step - loss: 0.4645 - accuracy: 0.9051\n",
      "Epoch 13/20\n",
      "465/465 [==============================] - 140s 302ms/step - loss: 0.3991 - accuracy: 0.9124\n",
      "Epoch 14/20\n",
      "465/465 [==============================] - 140s 302ms/step - loss: 0.3578 - accuracy: 0.9204\n",
      "Epoch 15/20\n",
      "465/465 [==============================] - 140s 301ms/step - loss: 0.3382 - accuracy: 0.9203\n",
      "Epoch 16/20\n",
      "465/465 [==============================] - 140s 301ms/step - loss: 0.3225 - accuracy: 0.9209\n",
      "Epoch 17/20\n",
      "465/465 [==============================] - 140s 302ms/step - loss: 0.3031 - accuracy: 0.9241\n",
      "Epoch 18/20\n",
      "465/465 [==============================] - 140s 301ms/step - loss: 0.2952 - accuracy: 0.9241\n",
      "Epoch 19/20\n",
      "465/465 [==============================] - 140s 301ms/step - loss: 0.2924 - accuracy: 0.9238\n",
      "Epoch 20/20\n",
      "465/465 [==============================] - 141s 302ms/step - loss: 0.2849 - accuracy: 0.9236\n"
     ]
    },
    {
     "data": {
      "text/plain": [
       "<keras.src.callbacks.History at 0x25528dedcd0>"
      ]
     },
     "execution_count": 14,
     "metadata": {},
     "output_type": "execute_result"
    }
   ],
   "source": [
    "# Compilamos el modelo\n",
    "model.compile(loss='categorical_crossentropy', optimizer='adam', metrics=['accuracy'])\n",
    "\n",
    "# Entrenamos el modelo\n",
    "model.fit(datos, etiquetas_ajustadas, epochs=20, verbose=1, shuffle=True)"
   ]
  },
  {
   "cell_type": "markdown",
   "metadata": {},
   "source": [
    "## Validamos el entrenamiento y medimos la calidad del desempeño de su red."
   ]
  },
  {
   "cell_type": "markdown",
   "metadata": {},
   "source": [
    "### 1) Mostramos la gráfica del error y la exactitud del modelo.\n",
    "\n",
    "Esta información es la que obtenemos del entrenamiento de la red neuronal recurrente."
   ]
  },
  {
   "cell_type": "code",
   "execution_count": 15,
   "metadata": {},
   "outputs": [
    {
     "data": {
      "image/png": "[encoded data removed]",
      "text/plain": [
       "<Figure size 640x480 with 1 Axes>"
      ]
     },
     "metadata": {},
     "output_type": "display_data"
    },
    {
     "name": "stdout",
     "output_type": "stream",
     "text": [
      "Error final:  0.2849128246307373\n",
      "Precisión final:  0.9236045479774475\n"
     ]
    }
   ],
   "source": [
    "# Graficamos el error\n",
    "plt.plot(model.history.history['loss'])\n",
    "plt.title('Error del Modelo')\n",
    "plt.ylabel('Error')\n",
    "plt.xlabel('Epoca')\n",
    "plt.show()\n",
    "\n",
    "# Mostramos el ultimo error\n",
    "print('Error final: ', model.history.history['loss'][-1])\n",
    "\n",
    "# Mostramos la precisión\n",
    "print('Precisión final: ', model.history.history['accuracy'][-1])"
   ]
  },
  {
   "cell_type": "code",
   "execution_count": 16,
   "metadata": {},
   "outputs": [],
   "source": [
    "# Creamos una función que nos permita predecir la siguiente palabra/s basandonos en una frase\n",
    "def predict_next_word(n_words, sentence):\n",
    "    for _ in range(n_words):\n",
    "        # Convertimos la frase en una secuencia de enteros\n",
    "        sequence = tokenizer.texts_to_sequences([sentence])[0]\n",
    "\n",
    "        # Rellenamos la secuencia para que tenga la misma longitud que las demás\n",
    "        sequence = pad_sequences([sequence], maxlen=max_len-1, padding='pre')\n",
    "\n",
    "        # Predecimos la siguiente palabra\n",
    "        # Nota: np.argmax nos permite obtener el índice del valor máximo, o sea la palabra con mayor probabilidad\n",
    "        predicted = np.argmax(model.predict(sequence), axis=-1)\n",
    "\n",
    "        # Convertimos el entero en una palabra\n",
    "        word_predicted = \"\"\n",
    "        for word, index in tokenizer.word_index.items():\n",
    "            if index == predicted:\n",
    "                word_predicted = word\n",
    "                break\n",
    "\n",
    "        # Agregamos la palabra a la frase\n",
    "        sentence += \" \" + word_predicted\n",
    "\n",
    "    return sentence, word_predicted"
   ]
  },
  {
   "cell_type": "markdown",
   "metadata": {},
   "source": [
    "### 2) Validamos el entrenamiento mediante un texto de prueba."
   ]
  },
  {
   "cell_type": "markdown",
   "metadata": {},
   "source": [
    "Del texto de validación el cual es un fragmento del mismo libro del fragmento de entrenamiento, por cada frase se quiere predecir la última palabra y comparar con el texto real.\n",
    "Se realiza sólo la predicción de la última palabra de cada frase para \"ayudar\" a la red dándole más contexto de la frase, ya que es difícil que acierte, debido a la cantidad de opciones coherentes que puede predecir.\n",
    "No necesariamente la palabra predicha es la correcta según el texto, pero pero puede ser coherente con el contexto de la frase, por lo que los resultados de esta validación no son un indicativo real de la calidad del modelo, se requiere un análisis cualitativo."
   ]
  },
  {
   "cell_type": "code",
   "execution_count": 37,
   "metadata": {},
   "outputs": [
    {
     "name": "stdout",
     "output_type": "stream",
     "text": [
      "1/1 [==============================] - 0s 150ms/step\n",
      "Frase:  era la voz del\n",
      "Palabra real:  alquimista\n",
      "Palabra predicha:  lenguaje\n",
      "1/1 [==============================] - 0s 81ms/step\n",
      "Frase:   el muchacho sonrió y continuó\n",
      "Palabra real:  cavando\n",
      "Palabra predicha:  el\n",
      "1/1 [==============================] - 0s 71ms/step\n",
      "Frase:   media hora después, la pala golpeó algo\n",
      "Palabra real:  sólido\n",
      "Palabra predicha:  de\n",
      "1/1 [==============================] - 0s 98ms/step\n",
      "Frase:   una hora después tenía ante sí un baúl lleno de viejas monedas de oro\n",
      "Palabra real:  españolas\n",
      "Palabra predicha:  entre\n",
      "1/1 [==============================] - 0s 101ms/step\n",
      "Frase:  también había pedrería, máscaras de oro con plumas blancas y rojas, ídolos de piedra con brillantes\n",
      "Palabra real:  incrustados\n",
      "Palabra predicha:  sus\n",
      "1/1 [==============================] - 0s 89ms/step\n",
      "Frase:   piezas de una conquista que el país ya había olvidado mucho tiempo atrás, y que el conquistador olvidó contar a sus\n",
      "Palabra real:  hijos\n",
      "Palabra predicha:  ovejas\n",
      "1/1 [==============================] - 0s 58ms/step\n",
      "Frase:  el muchacho sacó a urim y tumim del zurrón, había utilizado las piedras solamente una vez, una mañana en un\n",
      "Palabra real:  mercado\n",
      "Palabra predicha:  seminario\n",
      "1/1 [==============================] - 0s 99ms/step\n",
      "Frase:   la vida y su camino estuvieron siempre llenos de\n",
      "Palabra real:  señales\n",
      "Palabra predicha:  la\n",
      "1/1 [==============================] - 0s 120ms/step\n",
      "Frase:  guardó a urim y a tumim en el baúl de\n",
      "Palabra real:  oro\n",
      "Palabra predicha:  las\n",
      "1/1 [==============================] - 0s 89ms/step\n",
      "Frase:   era también parte de su tesoro, porque le recordaban a un viejo rey que jamás volvería a\n",
      "Palabra real:  encontrar\n",
      "Palabra predicha:  ver\n",
      "1/1 [==============================] - 0s 64ms/step\n",
      "Frase:  \"realmente la vida es generosa con quien vive su leyenda personal -pensó el\n",
      "Palabra real:  muchacho\n",
      "Palabra predicha:  muchacho\n",
      "1/1 [==============================] - 0s 59ms/step\n",
      "Frase:   entonces se acordó de que tenía que ir a tarifa para dar la décima parte de todo aquello a la\n",
      "Palabra real:  gitana-\n",
      "Palabra predicha:  misma\n",
      "1/1 [==============================] - 0s 68ms/step\n",
      "Frase:   qué listos son los gitanos\", se\n",
      "Palabra real:  dijo\n",
      "Palabra predicha:  deben\n",
      "1/1 [==============================] - 0s 84ms/step\n",
      "Frase:   tal vez fuese porque viajaban\n",
      "Palabra real:  tanto\n",
      "Palabra predicha:  que\n",
      "1/1 [==============================] - 0s 218ms/step\n",
      "Frase:  pero el viento volvió a\n",
      "Palabra real:  soplar\n",
      "Palabra predicha:  su\n",
      "1/1 [==============================] - 0s 186ms/step\n",
      "Frase:   era el levante, el viento que venía de\n",
      "Palabra real:  áfrica\n",
      "Palabra predicha:  su\n",
      "1/1 [==============================] - 0s 125ms/step\n",
      "Frase:   no traía el olor del desierto, ni la amenaza de invasión de los\n",
      "Palabra real:  moros\n",
      "Palabra predicha:  manera\n",
      "1/1 [==============================] - 0s 141ms/step\n",
      "Frase:   por el contrario, traía un perfume que él conocía bien, y el sonido de un beso -que fue llegando despacio, despacio, hasta posarse en sus\n",
      "Palabra real:  labios\n",
      "Palabra predicha:  propios\n",
      "1/1 [==============================] - 0s 159ms/step\n",
      "Frase:  el muchacho\n",
      "Palabra real:  sonrió\n",
      "Palabra predicha:  se\n",
      "1/1 [==============================] - 0s 193ms/step\n",
      "Frase:   era la primera vez que ella hacía\n",
      "Palabra real:  eso\n",
      "Palabra predicha:  dos\n",
      "1/1 [==============================] - 0s 175ms/step\n",
      "Frase:  -ya voy, fátima -dijo\n",
      "Palabra real:  él\n",
      "Palabra predicha:  el\n"
     ]
    }
   ],
   "source": [
    "# Definimos una función para crear las frases que usaremos para entrenar el modelo.\n",
    "def phrases_to_test(text):\n",
    "    # Ahora vamos a crear los datos que seran utilizados\n",
    "    frases = []\n",
    "\n",
    "    # Unimos todo el texto en una sola linea, para luego separarlo por puntos (.). Esto nos permite tener frases completas.\n",
    "    texto_unido = text.replace('\\n', '.')\n",
    "\n",
    "    # Separamos el texto por frases (En este caso por puntos)\n",
    "    for line in texto_unido.split('.'):\n",
    "        # Vamos recorriendo cada frase y la vamos guardando.\n",
    "        if line != '':\n",
    "            frases.append(line)\n",
    "    return frases\n",
    "\n",
    "# Primero vamos a cargar el texto de prueba\n",
    "path = './validacion.txt'\n",
    "\n",
    "# Abrimos el archivo y lo leemos\n",
    "with open(path, 'r', encoding='utf-8') as f:\n",
    "    text_prueba = f.read().lower()\n",
    "\n",
    "# Obtenemos las frases que probaremos\n",
    "frases_prueba = phrases_to_test(text_prueba)\n",
    "\n",
    "good_predictions = 0\n",
    "\n",
    "# Ahora vamos a predecir la siguiente palabra de cada frase\n",
    "for i in range(len(frases_prueba)):\n",
    "\n",
    "    # Obtenemos la frase a predecir\n",
    "    frase = frases_prueba[i]\n",
    "\n",
    "    # Obtenemos la etiqueta\n",
    "    etiqueta = frase.split(' ')[-1]\n",
    "\n",
    "    # Eliminamos la etiqueta de la frase\n",
    "    frase = ' '.join(frase.split(' ')[:-1])\n",
    "\n",
    "    # Predecimos la siguiente palabra\n",
    "    _, word_predicted = predict_next_word(1, frase)\n",
    "\n",
    "    # Mostramos la frase\n",
    "    print('Frase: ', frase)\n",
    "\n",
    "    # Mostramos la etiqueta\n",
    "    print('Palabra real: ', etiqueta)\n",
    "\n",
    "    # Mostramos la frase predicha\n",
    "    print('Palabra predicha: ', word_predicted)\n",
    "\n",
    "    #Calcular precision por palabra\n",
    "    if etiqueta == word_predicted:\n",
    "        good_predictions += 1"
   ]
  },
  {
   "cell_type": "code",
   "execution_count": 36,
   "metadata": {},
   "outputs": [
    {
     "name": "stdout",
     "output_type": "stream",
     "text": [
      "Precisión con respecto al texto de validación:  0.034482758620689655\n"
     ]
    }
   ],
   "source": [
    "# Mostramos la precisión\n",
    "print('Precisión con respecto al texto de validación: ', good_predictions/len(frases_prueba))"
   ]
  },
  {
   "cell_type": "markdown",
   "metadata": {},
   "source": [
    "## Ejemplos de Predicción"
   ]
  },
  {
   "cell_type": "markdown",
   "metadata": {},
   "source": [
    "Cualitativamente se puede observar que la red neuronal recurrente LSTM es capaz de predecir palabras coherentes con el contexto de la frase, por lo que se considera un éxito."
   ]
  },
  {
   "cell_type": "code",
   "execution_count": 38,
   "metadata": {},
   "outputs": [
    {
     "name": "stdout",
     "output_type": "stream",
     "text": [
      "1/1 [==============================] - 0s 138ms/step\n",
      "1/1 [==============================] - 0s 88ms/step\n",
      "1/1 [==============================] - 0s 105ms/step\n",
      "1/1 [==============================] - 0s 57ms/step\n",
      "1/1 [==============================] - 0s 78ms/step\n",
      "1/1 [==============================] - 0s 95ms/step\n",
      "1/1 [==============================] - 0s 58ms/step\n",
      "1/1 [==============================] - 0s 66ms/step\n",
      "1/1 [==============================] - 0s 80ms/step\n",
      "1/1 [==============================] - 0s 69ms/step\n",
      "Alejandro dice que el sol estuviera un poco más bajo antes de seguir\n"
     ]
    }
   ],
   "source": [
    "# Indicamos cuantas palabras queremos predecir\n",
    "n_palabras = 10\n",
    "\n",
    "# Indicamos la frase con la que queremos iniciar\n",
    "frase = \"Alejandro dice que\"\n",
    "\n",
    "# Predecimos las palabras\n",
    "frase, _ = predict_next_word(n_palabras, frase)\n",
    "\n",
    "print(frase)"
   ]
  },
  {
   "cell_type": "code",
   "execution_count": 19,
   "metadata": {},
   "outputs": [
    {
     "name": "stdout",
     "output_type": "stream",
     "text": [
      "1/1 [==============================] - 0s 62ms/step\n",
      "1/1 [==============================] - 0s 64ms/step\n",
      "1/1 [==============================] - 0s 65ms/step\n",
      "1/1 [==============================] - 0s 100ms/step\n",
      "1/1 [==============================] - 0s 56ms/step\n",
      "1/1 [==============================] - 0s 78ms/step\n",
      "1/1 [==============================] - 0s 95ms/step\n",
      "1/1 [==============================] - 0s 92ms/step\n",
      "1/1 [==============================] - 0s 54ms/step\n",
      "1/1 [==============================] - 0s 64ms/step\n",
      "1/1 [==============================] - 0s 93ms/step\n",
      "1/1 [==============================] - 0s 94ms/step\n",
      "1/1 [==============================] - 0s 198ms/step\n",
      "1/1 [==============================] - 0s 83ms/step\n",
      "1/1 [==============================] - 0s 87ms/step\n",
      "Sandro dijo que toda su vida había soñado con ser pastor y que aquello era una buena señal\n"
     ]
    }
   ],
   "source": [
    "# Indicamos cuantas palabras queremos predecir\n",
    "n_palabras = 15\n",
    "\n",
    "# Indicamos la frase con la que queremos iniciar\n",
    "frase = \"Sandro dijo que\"\n",
    "\n",
    "# Predecimos las palabras\n",
    "frase, _ = predict_next_word(n_palabras, frase)\n",
    "\n",
    "print(frase)"
   ]
  },
  {
   "cell_type": "code",
   "execution_count": 20,
   "metadata": {},
   "outputs": [
    {
     "name": "stdout",
     "output_type": "stream",
     "text": [
      "1/1 [==============================] - 0s 176ms/step\n",
      "1/1 [==============================] - 0s 96ms/step\n",
      "1/1 [==============================] - 0s 114ms/step\n",
      "1/1 [==============================] - 0s 127ms/step\n",
      "1/1 [==============================] - 0s 125ms/step\n",
      "1/1 [==============================] - 0s 77ms/step\n",
      "1/1 [==============================] - 0s 93ms/step\n",
      "1/1 [==============================] - 0s 66ms/step\n",
      "1/1 [==============================] - 0s 64ms/step\n",
      "1/1 [==============================] - 0s 55ms/step\n",
      "1/1 [==============================] - 0s 100ms/step\n",
      "1/1 [==============================] - 0s 55ms/step\n",
      "1/1 [==============================] - 0s 92ms/step\n",
      "1/1 [==============================] - 0s 57ms/step\n",
      "1/1 [==============================] - 0s 63ms/step\n",
      "Carlitos pensó que si algún día él escribía un libro haría aparecer a los personajes de forma sucesiva\n"
     ]
    }
   ],
   "source": [
    "# Indicamos cuantas palabras queremos predecir\n",
    "n_palabras = 15\n",
    "\n",
    "# Indicamos la frase con la que queremos iniciar \n",
    "frase = \"Carlitos pensó que\"\n",
    "\n",
    "# Predecimos las palabras\n",
    "frase, _ = predict_next_word(n_palabras, frase)\n",
    "\n",
    "print(frase)"
   ]
  }
 ],
 "metadata": {
  "kernelspec": {
   "display_name": "Python 3",
   "language": "python",
   "name": "python3"
  },
  "language_info": {
   "codemirror_mode": {
    "name": "ipython",
    "version": 3
   },
   "file_extension": ".py",
   "mimetype": "text/x-python",
   "name": "python",
   "nbconvert_exporter": "python",
   "pygments_lexer": "ipython3",
   "version": "3.11.6"
  }
 },
 "nbformat": 4,
 "nbformat_minor": 2
}
