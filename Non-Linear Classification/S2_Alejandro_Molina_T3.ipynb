{
 "cells": [
  {
   "cell_type": "markdown",
   "metadata": {},
   "source": [
    "# Red Neuronal para Clasificación no Lineal"
   ]
  },
  {
   "cell_type": "markdown",
   "metadata": {},
   "source": [
    "## Sección 2 - Proyecto (2) - Alejandro Molina (T3)"
   ]
  },
  {
   "cell_type": "markdown",
   "metadata": {},
   "source": [
    "### Líbrerias a utilizar:"
   ]
  },
  {
   "cell_type": "code",
   "execution_count": 1,
   "metadata": {},
   "outputs": [],
   "source": [
    "from __future__ import print_function\n",
    "import numpy as np\n",
    "import matplotlib.pyplot as plt"
   ]
  },
  {
   "cell_type": "markdown",
   "metadata": {},
   "source": [
    "Cree los datos de entrada y salida para una compuerta XOR:"
   ]
  },
  {
   "cell_type": "code",
   "execution_count": 2,
   "metadata": {},
   "outputs": [],
   "source": [
    "X = np.array([[0, 0], [0, 1], [1, 0], [1, 1]])\n",
    "y = np.array([[0], [1], [1], [0]])"
   ]
  },
  {
   "cell_type": "markdown",
   "metadata": {},
   "source": [
    "Para una red neuronal con dos neuronas en la capa de entrada, tres en la capa escondidad y una en la salida, inicialize los pesos y sesgos:"
   ]
  },
  {
   "cell_type": "code",
   "execution_count": 3,
   "metadata": {},
   "outputs": [],
   "source": [
    "# w1 sera la matriz de pesos de la capa 1\n",
    "w1 = 2 * np.random.random(size=(2,3)) - 1\n",
    "\n",
    "# w2 sera la matriz de pesos de la capa 2\n",
    "w2 = 2 * np.random.random(size=(3,1)) - 1\n",
    "\n",
    "# b1 sera el bias de la capa 1\n",
    "b1 = 2 * np.random.random(size=(1,3)) - 1\n",
    "\n",
    "# b2 sera el bias de la capa 2\n",
    "b2 = 2 * np.random.random(size=(1,1)) - 1\n",
    "\n",
    "# Es el factor de aprendizaje\n",
    "eta = 2.8"
   ]
  },
  {
   "cell_type": "markdown",
   "metadata": {},
   "source": [
    "Defina la función de activación y su derivada:"
   ]
  },
  {
   "cell_type": "code",
   "execution_count": 4,
   "metadata": {},
   "outputs": [],
   "source": [
    "# Definicion de la función sigmoide (Función de activación)\n",
    "def sigmoid(x):\n",
    "    return 1 / (1 + np.exp(-x))\n",
    "\n",
    "# Definicion de la derivada de la función sigmoide (Función de activación derivada)\n",
    "def dsigmoid(y):\n",
    "    return y * (1 - y)"
   ]
  },
  {
   "cell_type": "markdown",
   "metadata": {},
   "source": [
    "## Forward pass"
   ]
  },
  {
   "cell_type": "markdown",
   "metadata": {},
   "source": [
    "Para el forward los calculos se hicieron usando estas matrices:\n",
    "\n",
    "Neth = $\\begin{bmatrix} w_{11} & w_{12} \\\\ w_{21} & w_{22} \\\\ w_{31} & w_{33} \\end{bmatrix}$ * $\\begin{bmatrix} i_{1} \\\\ i_{2} \\end{bmatrix}$\n",
    "\n",
    "Outh = $\\begin{bmatrix} \\sigma(neth_{1}) \\\\ \\sigma(neth_{2}) \\\\ \\sigma(neth_{3}) \\end{bmatrix}$\n",
    "\n",
    "Neto = $\\begin{bmatrix} w_{11} & w_{21} & w_{31} \\end{bmatrix}$ * $\\begin{bmatrix} outh_{1} \\\\ outh_{2} \\\\ outh_{3} \\end{bmatrix}$\n",
    "\n",
    "Outo = $\\sigma(neto)$\n",
    "\n",
    "\n",
    "\n"
   ]
  },
  {
   "cell_type": "code",
   "execution_count": 5,
   "metadata": {},
   "outputs": [
    {
     "name": "stdout",
     "output_type": "stream",
     "text": [
      "Resultado de la capa salida: [[0.60247371 0.54370587 0.58575255 0.52600453]]\n",
      "Resultado redondeado de C.S: [[1. 1. 1. 1.]]\n"
     ]
    }
   ],
   "source": [
    "# Definimos la función del Forward pass\n",
    "def forward_pass():\n",
    "    # Capa de entrada\n",
    "    Neth = np.dot(X, w1) + b1\n",
    "    Outh = sigmoid(Neth)\n",
    "    # Capa de salida\n",
    "    Neto = np.dot(Outh, w2) + b2\n",
    "    Outo = sigmoid(Neto)\n",
    "    return Neth, Outh, Neto, Outo\n",
    "\n",
    "# Probamos la función del Forward pass\n",
    "Neth, Outh, Neto, Outo = forward_pass()\n",
    "\n",
    "# Mostramos el resultado sin redondear\n",
    "print('Resultado de la capa salida:',Outo.T) \n",
    "\n",
    "# Mostramos el resultado redondeado\n",
    "print('Resultado redondeado de C.S:', np.round(Outo.T)) #c.s = capa salida"
   ]
  },
  {
   "cell_type": "markdown",
   "metadata": {},
   "source": [
    "## Backward pass"
   ]
  },
  {
   "cell_type": "markdown",
   "metadata": {},
   "source": [
    "Implemente las derivadas del error respecto a los parámetros w y b:"
   ]
  },
  {
   "cell_type": "markdown",
   "metadata": {},
   "source": [
    "Las derivadas son las siguientes:\n",
    "\n",
    "Calculamos delta1 ($\\delta_1$) y delta2 ($\\delta_2$):\n",
    "\n",
    "- $\\delta_2 = \\frac{\\partial E}{\\partial Outo} * \\frac{\\partial Outo}{\\partial Neto} = - (Y - Outo) * Outo * (1 - Outo)$\n",
    "- $\\delta_1 = \\frac{\\partial E}{\\partial Outh} * \\frac{\\partial Outh}{\\partial Neth} = \\delta_2 * w_2 * Outh * (1 - Outh)$\n",
    "\n",
    "Derivada respecto a w:\n",
    "\n",
    "- $\\frac{\\partial E}{\\partial w_2} = \\delta_2 * Outh$\n",
    "- $\\frac{\\partial E}{\\partial w_1} = \\delta_1 * X$\n",
    "\n",
    "Derivada respecto a b:\n",
    "\n",
    "- $\\frac{\\partial E}{\\partial b_2} = \\delta_2$\n",
    "- $\\frac{\\partial E}{\\partial b_1} = \\delta_1$"
   ]
  },
  {
   "cell_type": "code",
   "execution_count": 6,
   "metadata": {},
   "outputs": [],
   "source": [
    "# Implementamos la retropropagación\n",
    "def backward_pass(Outh, Outo):\n",
    "    # Indicamos que vamos a utilizar las variables globales\n",
    "    global w2, y\n",
    "\n",
    "    # Calculamos el error de la capa de salida\n",
    "    delta2 = - (y - Outo) * dsigmoid(Outo)\n",
    "    \n",
    "    # Calculamos el error de la capa escondida\n",
    "    delta1 = np.dot(delta2, w2.T) * dsigmoid(Outh)\n",
    "\n",
    "    return delta1, delta2"
   ]
  },
  {
   "cell_type": "markdown",
   "metadata": {},
   "source": [
    "Implemente la correción de los parámetros:"
   ]
  },
  {
   "cell_type": "code",
   "execution_count": 7,
   "metadata": {},
   "outputs": [],
   "source": [
    "# Implementamos la actualización de los pesos y bias\n",
    "def update_weightsAndBias(Outh,delta1, delta2):\n",
    "    # Indicamos que usaremos las variables globales\n",
    "    global w1, w2, b1, b2, eta, X\n",
    "\n",
    "    # Actualizamos los pesos y bias de la segunda capa\n",
    "    w2 -= eta * np.dot(Outh.T, delta2)\n",
    "    b2 -= eta * np.sum(delta2, keepdims=True)\n",
    "\n",
    "    # Actualizamos los pesos y bias de la primera capa\n",
    "    w1 -= eta * np.dot(X.T, delta1)\n",
    "    b1 -= eta * np.sum(delta1, axis=0, keepdims=True)\n",
    "\n",
    "    # Nota:\n",
    "    # np.sum(axis=0) suma los elementos de cada columna\n",
    "    # np.sum(keepdims=True) mantiene las dimensiones del array\n"
   ]
  },
  {
   "cell_type": "markdown",
   "metadata": {},
   "source": [
    "## Entrenamiento de la red neuronal"
   ]
  },
  {
   "cell_type": "markdown",
   "metadata": {},
   "source": [
    "Use el esquema de \"Retropropagación\" para entrenar la red."
   ]
  },
  {
   "cell_type": "code",
   "execution_count": 8,
   "metadata": {},
   "outputs": [
    {
     "name": "stdout",
     "output_type": "stream",
     "text": [
      "Valores esperados:  [[0 1 1 0]]\n",
      "Resultados:         [[0.05255416 0.95099807 0.94655049 0.04151886]]\n",
      "Resultados redondeados:  [[0. 1. 1. 0.]]\n",
      "Error final:        0.004871897275157643\n"
     ]
    }
   ],
   "source": [
    "# Definimos la cantidad de epocas\n",
    "epochs = 400\n",
    "\n",
    "# Creamos una lista para guardar el error\n",
    "errores = []\n",
    "\n",
    "# Implementación de la retropropagación\n",
    "for epoch in range(epochs):\n",
    "    # Forward pass\n",
    "    Neth, Outh, Neto, Outo = forward_pass()\n",
    "\n",
    "    # Calculamos el error\n",
    "    E = 0.5 * np.sum((y - Outo) ** 2)\n",
    "    errores.append(E)\n",
    "    \n",
    "    # Backward pass\n",
    "    delta1, delta2 = backward_pass(Outh, Outo)\n",
    "\n",
    "    # Actualizamos los pesos y sesgos\n",
    "    update_weightsAndBias(Outh,delta1, delta2)\n",
    "\n",
    "# Imprimimos los resultados\n",
    "print(\"Valores esperados: \", y.T)\n",
    "print(\"Resultados:        \", (Outo.T))\n",
    "print('Resultados redondeados: ', np.round(Outo.T))\n",
    "print(\"Error final:       \", E)"
   ]
  },
  {
   "cell_type": "markdown",
   "metadata": {},
   "source": [
    "Valide del entrenamiento. Con una gráfica del error en funcion de las épocas."
   ]
  },
  {
   "cell_type": "code",
   "execution_count": 9,
   "metadata": {},
   "outputs": [
    {
     "data": {
      "image/png": "[encoded data removed]",
      "text/plain": [
       "<Figure size 640x480 with 1 Axes>"
      ]
     },
     "metadata": {},
     "output_type": "display_data"
    }
   ],
   "source": [
    "# Gráfica Error vs. Épocas\n",
    "plt.plot(errores)\n",
    "plt.xlabel('Epoch')\n",
    "plt.ylabel('Error')\n",
    "plt.show()"
   ]
  }
 ],
 "metadata": {
  "kernelspec": {
   "display_name": "Python 3",
   "language": "python",
   "name": "python3"
  },
  "language_info": {
   "codemirror_mode": {
    "name": "ipython",
    "version": 3
   },
   "file_extension": ".py",
   "mimetype": "text/x-python",
   "name": "python",
   "nbconvert_exporter": "python",
   "pygments_lexer": "ipython3",
   "version": "3.12.0"
  }
 },
 "nbformat": 4,
 "nbformat_minor": 4
}
